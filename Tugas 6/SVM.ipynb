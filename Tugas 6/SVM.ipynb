{
 "cells": [
  {
   "cell_type": "code",
   "execution_count": 1,
   "metadata": {},
   "outputs": [],
   "source": [
    "# Import Library\n",
    "import pandas as pd\n",
    "from sklearn.tree import DecisionTreeClassifier # Import Decision Tree Classifier\n",
    "from sklearn.model_selection import train_test_split # Import train_test_split function\n",
    "from sklearn import metrics #Import scikit-learn metrics module for accuracy calculation\n",
    "from sklearn import svm\n",
    "from sklearn.model_selection import KFold"
   ]
  },
  {
   "cell_type": "code",
   "execution_count": 35,
   "metadata": {},
   "outputs": [],
   "source": [
    "df = pd.read_csv(\"D:\\TC\\KK B\\Tugas 6\\glass.csv\")"
   ]
  },
  {
   "cell_type": "code",
   "execution_count": 36,
   "metadata": {},
   "outputs": [],
   "source": [
    "X = df[['RI', 'Na', 'Mg', 'Al', 'Si', 'K', 'Ca', 'Ba', 'Fe']] # Features\n",
    "y = df[['Type']] # Target variable"
   ]
  },
  {
   "cell_type": "code",
   "execution_count": 37,
   "metadata": {},
   "outputs": [
    {
     "name": "stdout",
     "output_type": "stream",
     "text": [
      "0.333    1.516889\n",
      "0.666    1.518436\n",
      "Name: RI, dtype: float64\n",
      "0.333    13.02000\n",
      "0.666    13.63432\n",
      "Name: Na, dtype: float64\n",
      "0.333    3.08077\n",
      "0.666    3.56000\n",
      "Name: Mg, dtype: float64\n",
      "0.333    1.25\n",
      "0.666    1.54\n",
      "Name: Al, dtype: float64\n",
      "0.333    72.50929\n",
      "0.666    72.99000\n",
      "Name: Si, dtype: float64\n",
      "0.333    0.32929\n",
      "0.666    0.59000\n",
      "Name: K, dtype: float64\n",
      "0.333    8.39000\n",
      "0.666    8.92716\n",
      "Name: Ca, dtype: float64\n",
      "0.333    0.0\n",
      "0.666    0.0\n",
      "Name: Ba, dtype: float64\n",
      "0.333    0.0\n",
      "0.666    0.0\n",
      "Name: Fe, dtype: float64\n",
      "0.333    2.0\n",
      "0.666    2.0\n",
      "Name: Type, dtype: float64\n"
     ]
    }
   ],
   "source": [
    " for col in df.columns:\n",
    "     print(df[col].quantile([0.333, 0.666]))"
   ]
  },
  {
   "cell_type": "code",
   "execution_count": 38,
   "metadata": {},
   "outputs": [
    {
     "name": "stdout",
     "output_type": "stream",
     "text": [
      "Accuracy: 0.7272727272727273\n",
      "Accuracy: 0.7441860465116279\n",
      "Accuracy: 0.7538461538461538\n",
      "Accuracy: 0.7558139534883721\n",
      "Accuracy: 0.7009345794392523\n",
      "Accuracy: 0.6434108527131783\n",
      "Accuracy: 0.6066666666666667\n",
      "Accuracy: 0.5523255813953488\n",
      "Accuracy: 0.47668393782383417\n"
     ]
    }
   ],
   "source": [
    "for i in list(range(1, 10)):\n",
    "    X_train, X_test, y_train, y_test = train_test_split(X, y, test_size=i/10, random_state=1)\n",
    "    \n",
    "    #Create a svm Classifier\n",
    "    clf = svm.SVC(kernel='linear', C=100, gamma=0.1) # Linear Kernel\n",
    "    \n",
    "    #Train the model using the training sets\n",
    "    clf.fit(X_train, y_train.values.ravel())\n",
    "    \n",
    "    #Predict the response for test dataset\n",
    "    y_pred = clf.predict(X_test)\n",
    "    \n",
    "    # Menghitung akurasi\n",
    "    print(\"Accuracy:\",metrics.accuracy_score(y_test, y_pred))"
   ]
  },
  {
   "cell_type": "code",
   "execution_count": null,
   "metadata": {},
   "outputs": [],
   "source": []
  },
  {
   "cell_type": "code",
   "execution_count": null,
   "metadata": {},
   "outputs": [],
   "source": []
  }
 ],
 "metadata": {
  "kernelspec": {
   "display_name": "Python 3",
   "language": "python",
   "name": "python3"
  },
  "language_info": {
   "codemirror_mode": {
    "name": "ipython",
    "version": 3
   },
   "file_extension": ".py",
   "mimetype": "text/x-python",
   "name": "python",
   "nbconvert_exporter": "python",
   "pygments_lexer": "ipython3",
   "version": "3.8.3"
  }
 },
 "nbformat": 4,
 "nbformat_minor": 4
}
