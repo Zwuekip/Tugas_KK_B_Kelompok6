{
  "nbformat": 4,
  "nbformat_minor": 0,
  "metadata": {
    "colab": {
      "name": "Tugas KK 6 Revisi.ipynb",
      "provenance": []
    },
    "kernelspec": {
      "name": "python3",
      "display_name": "Python 3"
    }
  },
  "cells": [
    {
      "cell_type": "markdown",
      "metadata": {
        "id": "ow7F8TRw77MD"
      },
      "source": [
        "# **SVM DATA** **GLASS**"
      ]
    },
    {
      "cell_type": "code",
      "metadata": {
        "id": "X88pjLOq76vZ"
      },
      "source": [
        "# Import Library\n",
        "import pandas as pd\n",
        "from sklearn.model_selection import train_test_split # Import train_test_split function\n",
        "from sklearn import metrics #Import scikit-learn metrics module for accuracy calculation\n",
        "from sklearn import svm\n",
        "from sklearn.tree import DecisionTreeClassifier\n",
        "from sklearn.neighbors import KNeighborsClassifier\n",
        "from sklearn.model_selection import KFold"
      ],
      "execution_count": null,
      "outputs": []
    },
    {
      "cell_type": "code",
      "metadata": {
        "id": "9okQN_878KGw"
      },
      "source": [
        "df = pd.read_csv(\"glass.csv\", sep=',') \n",
        "# Data yang kita pakai adalah data glass dari https://www.kaggle.com/uciml/glass"
      ],
      "execution_count": null,
      "outputs": []
    },
    {
      "cell_type": "code",
      "metadata": {
        "colab": {
          "base_uri": "https://localhost:8080/",
          "height": 204
        },
        "id": "u4MSgO0W9GeB",
        "outputId": "b984a617-267f-4f4f-89d4-e03d122ad346"
      },
      "source": [
        "df.head()"
      ],
      "execution_count": null,
      "outputs": [
        {
          "output_type": "execute_result",
          "data": {
            "text/html": [
              "<div>\n",
              "<style scoped>\n",
              "    .dataframe tbody tr th:only-of-type {\n",
              "        vertical-align: middle;\n",
              "    }\n",
              "\n",
              "    .dataframe tbody tr th {\n",
              "        vertical-align: top;\n",
              "    }\n",
              "\n",
              "    .dataframe thead th {\n",
              "        text-align: right;\n",
              "    }\n",
              "</style>\n",
              "<table border=\"1\" class=\"dataframe\">\n",
              "  <thead>\n",
              "    <tr style=\"text-align: right;\">\n",
              "      <th></th>\n",
              "      <th>RI</th>\n",
              "      <th>Na</th>\n",
              "      <th>Mg</th>\n",
              "      <th>Al</th>\n",
              "      <th>Si</th>\n",
              "      <th>K</th>\n",
              "      <th>Ca</th>\n",
              "      <th>Ba</th>\n",
              "      <th>Fe</th>\n",
              "      <th>Type</th>\n",
              "    </tr>\n",
              "  </thead>\n",
              "  <tbody>\n",
              "    <tr>\n",
              "      <th>0</th>\n",
              "      <td>1.52101</td>\n",
              "      <td>13.64</td>\n",
              "      <td>4.49</td>\n",
              "      <td>1.10</td>\n",
              "      <td>71.78</td>\n",
              "      <td>0.06</td>\n",
              "      <td>8.75</td>\n",
              "      <td>0.0</td>\n",
              "      <td>0.0</td>\n",
              "      <td>1</td>\n",
              "    </tr>\n",
              "    <tr>\n",
              "      <th>1</th>\n",
              "      <td>1.51761</td>\n",
              "      <td>13.89</td>\n",
              "      <td>3.60</td>\n",
              "      <td>1.36</td>\n",
              "      <td>72.73</td>\n",
              "      <td>0.48</td>\n",
              "      <td>7.83</td>\n",
              "      <td>0.0</td>\n",
              "      <td>0.0</td>\n",
              "      <td>1</td>\n",
              "    </tr>\n",
              "    <tr>\n",
              "      <th>2</th>\n",
              "      <td>1.51618</td>\n",
              "      <td>13.53</td>\n",
              "      <td>3.55</td>\n",
              "      <td>1.54</td>\n",
              "      <td>72.99</td>\n",
              "      <td>0.39</td>\n",
              "      <td>7.78</td>\n",
              "      <td>0.0</td>\n",
              "      <td>0.0</td>\n",
              "      <td>1</td>\n",
              "    </tr>\n",
              "    <tr>\n",
              "      <th>3</th>\n",
              "      <td>1.51766</td>\n",
              "      <td>13.21</td>\n",
              "      <td>3.69</td>\n",
              "      <td>1.29</td>\n",
              "      <td>72.61</td>\n",
              "      <td>0.57</td>\n",
              "      <td>8.22</td>\n",
              "      <td>0.0</td>\n",
              "      <td>0.0</td>\n",
              "      <td>1</td>\n",
              "    </tr>\n",
              "    <tr>\n",
              "      <th>4</th>\n",
              "      <td>1.51742</td>\n",
              "      <td>13.27</td>\n",
              "      <td>3.62</td>\n",
              "      <td>1.24</td>\n",
              "      <td>73.08</td>\n",
              "      <td>0.55</td>\n",
              "      <td>8.07</td>\n",
              "      <td>0.0</td>\n",
              "      <td>0.0</td>\n",
              "      <td>1</td>\n",
              "    </tr>\n",
              "  </tbody>\n",
              "</table>\n",
              "</div>"
            ],
            "text/plain": [
              "        RI     Na    Mg    Al     Si     K    Ca   Ba   Fe  Type\n",
              "0  1.52101  13.64  4.49  1.10  71.78  0.06  8.75  0.0  0.0     1\n",
              "1  1.51761  13.89  3.60  1.36  72.73  0.48  7.83  0.0  0.0     1\n",
              "2  1.51618  13.53  3.55  1.54  72.99  0.39  7.78  0.0  0.0     1\n",
              "3  1.51766  13.21  3.69  1.29  72.61  0.57  8.22  0.0  0.0     1\n",
              "4  1.51742  13.27  3.62  1.24  73.08  0.55  8.07  0.0  0.0     1"
            ]
          },
          "metadata": {
            "tags": []
          },
          "execution_count": 3
        }
      ]
    },
    {
      "cell_type": "markdown",
      "metadata": {
        "id": "4VJe2ZJc90uJ"
      },
      "source": [
        "## **Melakukan Pembagian Target dan fitur**"
      ]
    },
    {
      "cell_type": "markdown",
      "metadata": {
        "id": "6GT1ZU6wz7mj"
      },
      "source": [
        "Membagi dataset menjadi 2 array, X berisi fitur sedangkan y berisi target label."
      ]
    },
    {
      "cell_type": "code",
      "metadata": {
        "id": "Vnrpqm9k-AxS"
      },
      "source": [
        "X = df[['RI', 'Na', 'Mg', 'Al', 'Si', 'K', 'Ca', 'Ba', 'Fe']] # Features\n",
        "y = df[['Type']] # Target variable"
      ],
      "execution_count": null,
      "outputs": []
    },
    {
      "cell_type": "markdown",
      "metadata": {
        "id": "Va32v7eh-QUq"
      },
      "source": [
        "## **SVM Linear Kernel**"
      ]
    },
    {
      "cell_type": "markdown",
      "metadata": {
        "id": "eAIvt2UE0CJR"
      },
      "source": [
        "Melakukan iterasi dari 1-9, untuk setiap iterasi dataset dibagi secara random dengan proporsi test set sejumlah angka iterasi dibagi 10.<br>\n",
        "Untuk random state dipilih seed dengan nilai integer tertentu agar untuk classifier lain data yang digunakan sebagai test set tetap sama.<br>\n",
        "Untuk kernel linear dipilih nilai C dan gamma yang menghasilkan akurasi terbaik yaitu 100 dan 0,1."
      ]
    },
    {
      "cell_type": "code",
      "metadata": {
        "colab": {
          "base_uri": "https://localhost:8080/"
        },
        "id": "kJ7_7H_q-i-0",
        "outputId": "def55609-c975-401f-dfd6-507decc8a4c4"
      },
      "source": [
        "print_format = '{:>12}' * 2\n",
        "print(print_format.format('Test size', 'Akurasi'))\n",
        "for i in list(range(1, 10)):\n",
        "    #Memisahkan Data Set menjadi Data Train dan Data Test\n",
        "    X_train, X_test, y_train, y_test = train_test_split(X, y, test_size=i/10, random_state=1)\n",
        "    \n",
        "    #Buat Pengklasifikasi SVM memakai Linear Kernel\n",
        "    clf = svm.SVC(kernel='linear', C=100, gamma=0.1)\n",
        "    \n",
        "    #Train model menggunakan training set\n",
        "    clf.fit(X_train, y_train.values.ravel())\n",
        "    \n",
        "    #Memprediksi respons untuk set data pengujian\n",
        "    y_pred = clf.predict(X_test)\n",
        "    \n",
        "    # Menghitung akurasi\n",
        "    print(print_format.format(i/10, '%.2f' %metrics.accuracy_score(y_test, y_pred)))"
      ],
      "execution_count": null,
      "outputs": [
        {
          "output_type": "stream",
          "text": [
            "   Test size     Akurasi\n",
            "         0.1        0.73\n",
            "         0.2        0.74\n",
            "         0.3        0.75\n",
            "         0.4        0.76\n",
            "         0.5        0.70\n",
            "         0.6        0.64\n",
            "         0.7        0.61\n",
            "         0.8        0.55\n",
            "         0.9        0.48\n"
          ],
          "name": "stdout"
        }
      ]
    },
    {
      "cell_type": "markdown",
      "metadata": {
        "id": "pp2-L3DvS4sF"
      },
      "source": [
        "## **SVM RBF Kernel**"
      ]
    },
    {
      "cell_type": "code",
      "metadata": {
        "colab": {
          "base_uri": "https://localhost:8080/"
        },
        "id": "-pZEB5u7TI71",
        "outputId": "9bb81274-d3fd-406c-f43b-48824cb7309c"
      },
      "source": [
        "print_format = '{:>12}' * 2\n",
        "print(print_format.format('Test size', 'Akurasi'))\n",
        "for i in list(range(1, 10)):\n",
        "    X_train, X_test, y_train, y_test = train_test_split(X, y, test_size=i/10, random_state=1)\n",
        "    \n",
        "    #Buat Pengklasifikasi SVM memakai Kernel RBF\n",
        "    clf = svm.SVC(kernel='rbf', C=10, gamma=0.1)\n",
        "    \n",
        "    #Train model menggunakan training set\n",
        "    clf.fit(X_train, y_train.values.ravel())\n",
        "    \n",
        "    #Memprediksi respons untuk set data pengujian\n",
        "    y_pred = clf.predict(X_test)\n",
        "    \n",
        "    # Menghitung akurasi\n",
        "    print(print_format.format(i/10, '%.2f' %metrics.accuracy_score(y_test, y_pred)))"
      ],
      "execution_count": null,
      "outputs": [
        {
          "output_type": "stream",
          "text": [
            "   Test size     Akurasi\n",
            "         0.1        0.68\n",
            "         0.2        0.70\n",
            "         0.3        0.77\n",
            "         0.4        0.74\n",
            "         0.5        0.76\n",
            "         0.6        0.73\n",
            "         0.7        0.70\n",
            "         0.8        0.60\n",
            "         0.9        0.47\n"
          ],
          "name": "stdout"
        }
      ]
    },
    {
      "cell_type": "markdown",
      "metadata": {
        "id": "AqYHjm9MVfc3"
      },
      "source": [
        "## **SVM** **Sigmoid** **Kernel**"
      ]
    },
    {
      "cell_type": "code",
      "metadata": {
        "colab": {
          "base_uri": "https://localhost:8080/"
        },
        "id": "aL2PMl2OVm6E",
        "outputId": "1262c74b-b71b-4e29-dc72-886c3a839803"
      },
      "source": [
        "print_format = '{:>12}' * 2\n",
        "print(print_format.format('Test size', 'Akurasi'))\n",
        "for i in list(range(1, 10)):\n",
        "    X_train, X_test, y_train, y_test = train_test_split(X, y, test_size=i/10, random_state=1)\n",
        "    \n",
        "    #Buat Pengklasifikasi SVM memakai Kernel sigmoid\n",
        "    clf = svm.SVC(kernel='sigmoid', C=100, gamma=0.1)\n",
        "    \n",
        "    #Train model menggunakan training set\n",
        "    clf.fit(X_train, y_train.values.ravel())\n",
        "    \n",
        "    #Memprediksi respons untuk set data pengujian\n",
        "    y_pred = clf.predict(X_test)\n",
        "    \n",
        "    # Menghitung akurasi\n",
        "    print(print_format.format(i/10, '%.2f' %metrics.accuracy_score(y_test, y_pred)))"
      ],
      "execution_count": null,
      "outputs": [
        {
          "output_type": "stream",
          "text": [
            "   Test size     Akurasi\n",
            "         0.1        0.36\n",
            "         0.2        0.28\n",
            "         0.3        0.32\n",
            "         0.4        0.30\n",
            "         0.5        0.31\n",
            "         0.6        0.32\n",
            "         0.7        0.34\n",
            "         0.8        0.34\n",
            "         0.9        0.33\n"
          ],
          "name": "stdout"
        }
      ]
    },
    {
      "cell_type": "markdown",
      "metadata": {
        "id": "5lf0yQVpY5aU"
      },
      "source": [
        "## **SVM** **Polynomial** **Kernel**"
      ]
    },
    {
      "cell_type": "code",
      "metadata": {
        "colab": {
          "base_uri": "https://localhost:8080/"
        },
        "id": "WXA1wi8IYB9m",
        "outputId": "23207d2c-8f22-4e5d-b94c-a47e8516af09"
      },
      "source": [
        "print_format = '{:>12}' * 2\n",
        "print(print_format.format('Test size', 'Akurasi'))\n",
        "for i in list(range(1, 10)):\n",
        "    X_train, X_test, y_train, y_test = train_test_split(X, y, test_size=i/10, random_state=1)\n",
        "    \n",
        "    #Buat Pengklasifikasi SVM memakai Kernel Polynomial\n",
        "    clf = svm.SVC(kernel='poly', C=1, gamma=1)\n",
        "    \n",
        "    #Train model menggunakan training set\n",
        "    clf.fit(X_train, y_train.values.ravel())\n",
        "    \n",
        "    #Memprediksi respons untuk set data pengujian\n",
        "    y_pred = clf.predict(X_test)\n",
        "    \n",
        "    # Menghitung akurasi\n",
        "    print(print_format.format(i/10, '%.2f' %metrics.accuracy_score(y_test, y_pred)))"
      ],
      "execution_count": null,
      "outputs": [
        {
          "output_type": "stream",
          "text": [
            "   Test size     Akurasi\n",
            "         0.1        0.68\n",
            "         0.2        0.72\n",
            "         0.3        0.85\n",
            "         0.4        0.73\n",
            "         0.5        0.66\n",
            "         0.6        0.66\n",
            "         0.7        0.65\n",
            "         0.8        0.61\n",
            "         0.9        0.50\n"
          ],
          "name": "stdout"
        }
      ]
    },
    {
      "cell_type": "markdown",
      "metadata": {
        "id": "AFf6WBATdcBK"
      },
      "source": [
        "## **SVM (semua iterasi)**"
      ]
    },
    {
      "cell_type": "markdown",
      "metadata": {
        "id": "i13H3RmD1Hol"
      },
      "source": [
        "Hanya untuk menentukan nilai C & gamma terbaik untuk dipakai di kode per kernel di atas."
      ]
    },
    {
      "cell_type": "code",
      "metadata": {
        "colab": {
          "base_uri": "https://localhost:8080/"
        },
        "id": "pSbn3uIfW5-d",
        "outputId": "e56cbb94-4bc3-4d0d-f179-313aa42c1e7c"
      },
      "source": [
        "params = {\n",
        "        'C': [0.1, 1, 10, 100],\n",
        "        'kernel': ['linear', 'poly', 'rbf', 'sigmoid'],\n",
        "        'gamma': [0.01, 0.1, 1]\n",
        "}\n",
        "print_format = '{:>12}' * 5\n",
        "print(print_format.format('Test size', 'Kernel', 'C', 'Gamma', 'Akurasi'))\n",
        "for i in list(range(1, 7)):\n",
        "  for j in params['kernel']:\n",
        "    for k in params['C']:\n",
        "      for l in params['gamma']:\n",
        "        X_train, X_test, y_train, y_test = train_test_split(X, y, test_size=i/10, random_state=1)\n",
        "        clf = svm.SVC(kernel=j, C=k, gamma=l)\n",
        "        clf.fit(X_train, y_train.values.ravel())\n",
        "        y_pred = clf.predict(X_test)\n",
        "        acc = metrics.accuracy_score(y_test, y_pred)\n",
        "        print(print_format.format(str(i/10), j, str(k), str(l), '%.3f' % acc))"
      ],
      "execution_count": null,
      "outputs": [
        {
          "output_type": "stream",
          "text": [
            "   Test size      Kernel           C       Gamma     Akurasi\n",
            "         0.1      linear         0.1        0.01       0.500\n",
            "         0.1      linear         0.1         0.1       0.500\n",
            "         0.1      linear         0.1           1       0.500\n",
            "         0.1      linear           1        0.01       0.682\n",
            "         0.1      linear           1         0.1       0.682\n",
            "         0.1      linear           1           1       0.682\n",
            "         0.1      linear          10        0.01       0.636\n",
            "         0.1      linear          10         0.1       0.636\n",
            "         0.1      linear          10           1       0.636\n",
            "         0.1      linear         100        0.01       0.727\n",
            "         0.1      linear         100         0.1       0.727\n",
            "         0.1      linear         100           1       0.727\n",
            "         0.1        poly         0.1        0.01       0.636\n",
            "         0.1        poly         0.1         0.1       0.727\n",
            "         0.1        poly         0.1           1       0.682\n",
            "         0.1        poly           1        0.01       0.727\n",
            "         0.1        poly           1         0.1       0.727\n",
            "         0.1        poly           1           1       0.682\n",
            "         0.1        poly          10        0.01       0.727\n",
            "         0.1        poly          10         0.1       0.636\n",
            "         0.1        poly          10           1       0.682\n",
            "         0.1        poly         100        0.01       0.773\n",
            "         0.1        poly         100         0.1       0.636\n",
            "         0.1        poly         100           1       0.682\n",
            "         0.1         rbf         0.1        0.01       0.364\n",
            "         0.1         rbf         0.1         0.1       0.455\n",
            "         0.1         rbf         0.1           1       0.682\n",
            "         0.1         rbf           1        0.01       0.455\n",
            "         0.1         rbf           1         0.1       0.682\n",
            "         0.1         rbf           1           1       0.727\n",
            "         0.1         rbf          10        0.01       0.591\n",
            "         0.1         rbf          10         0.1       0.682\n",
            "         0.1         rbf          10           1       0.591\n",
            "         0.1         rbf         100        0.01       0.727\n",
            "         0.1         rbf         100         0.1       0.682\n",
            "         0.1         rbf         100           1       0.545\n",
            "         0.1     sigmoid         0.1        0.01       0.364\n",
            "         0.1     sigmoid         0.1         0.1       0.364\n",
            "         0.1     sigmoid         0.1           1       0.364\n",
            "         0.1     sigmoid           1        0.01       0.364\n",
            "         0.1     sigmoid           1         0.1       0.364\n",
            "         0.1     sigmoid           1           1       0.364\n",
            "         0.1     sigmoid          10        0.01       0.364\n",
            "         0.1     sigmoid          10         0.1       0.364\n",
            "         0.1     sigmoid          10           1       0.364\n",
            "         0.1     sigmoid         100        0.01       0.364\n",
            "         0.1     sigmoid         100         0.1       0.364\n",
            "         0.1     sigmoid         100           1       0.364\n",
            "         0.2      linear         0.1        0.01       0.488\n",
            "         0.2      linear         0.1         0.1       0.488\n",
            "         0.2      linear         0.1           1       0.488\n",
            "         0.2      linear           1        0.01       0.605\n",
            "         0.2      linear           1         0.1       0.605\n",
            "         0.2      linear           1           1       0.605\n",
            "         0.2      linear          10        0.01       0.698\n",
            "         0.2      linear          10         0.1       0.698\n",
            "         0.2      linear          10           1       0.698\n",
            "         0.2      linear         100        0.01       0.744\n",
            "         0.2      linear         100         0.1       0.744\n",
            "         0.2      linear         100           1       0.744\n",
            "         0.2        poly         0.1        0.01       0.698\n",
            "         0.2        poly         0.1         0.1       0.767\n",
            "         0.2        poly         0.1           1       0.767\n",
            "         0.2        poly           1        0.01       0.767\n",
            "         0.2        poly           1         0.1       0.698\n",
            "         0.2        poly           1           1       0.721\n",
            "         0.2        poly          10        0.01       0.767\n",
            "         0.2        poly          10         0.1       0.651\n",
            "         0.2        poly          10           1       0.721\n",
            "         0.2        poly         100        0.01       0.814\n",
            "         0.2        poly         100         0.1       0.651\n",
            "         0.2        poly         100           1       0.721\n",
            "         0.2         rbf         0.1        0.01       0.279\n",
            "         0.2         rbf         0.1         0.1       0.372\n",
            "         0.2         rbf         0.1           1       0.349\n",
            "         0.2         rbf           1        0.01       0.372\n",
            "         0.2         rbf           1         0.1       0.628\n",
            "         0.2         rbf           1           1       0.721\n",
            "         0.2         rbf          10        0.01       0.535\n",
            "         0.2         rbf          10         0.1       0.698\n",
            "         0.2         rbf          10           1       0.698\n",
            "         0.2         rbf         100        0.01       0.744\n",
            "         0.2         rbf         100         0.1       0.698\n",
            "         0.2         rbf         100           1       0.651\n",
            "         0.2     sigmoid         0.1        0.01       0.279\n",
            "         0.2     sigmoid         0.1         0.1       0.279\n",
            "         0.2     sigmoid         0.1           1       0.279\n",
            "         0.2     sigmoid           1        0.01       0.279\n",
            "         0.2     sigmoid           1         0.1       0.279\n",
            "         0.2     sigmoid           1           1       0.279\n",
            "         0.2     sigmoid          10        0.01       0.279\n",
            "         0.2     sigmoid          10         0.1       0.279\n",
            "         0.2     sigmoid          10           1       0.279\n",
            "         0.2     sigmoid         100        0.01       0.279\n",
            "         0.2     sigmoid         100         0.1       0.279\n",
            "         0.2     sigmoid         100           1       0.279\n",
            "         0.3      linear         0.1        0.01       0.585\n",
            "         0.3      linear         0.1         0.1       0.585\n",
            "         0.3      linear         0.1           1       0.585\n",
            "         0.3      linear           1        0.01       0.646\n",
            "         0.3      linear           1         0.1       0.646\n",
            "         0.3      linear           1           1       0.646\n",
            "         0.3      linear          10        0.01       0.738\n",
            "         0.3      linear          10         0.1       0.738\n",
            "         0.3      linear          10           1       0.738\n",
            "         0.3      linear         100        0.01       0.754\n",
            "         0.3      linear         100         0.1       0.754\n",
            "         0.3      linear         100           1       0.754\n",
            "         0.3        poly         0.1        0.01       0.769\n",
            "         0.3        poly         0.1         0.1       0.769\n",
            "         0.3        poly         0.1           1       0.846\n",
            "         0.3        poly           1        0.01       0.769\n",
            "         0.3        poly           1         0.1       0.723\n",
            "         0.3        poly           1           1       0.846\n",
            "         0.3        poly          10        0.01       0.785\n",
            "         0.3        poly          10         0.1       0.738\n",
            "         0.3        poly          10           1       0.815\n",
            "         0.3        poly         100        0.01       0.738\n",
            "         0.3        poly         100         0.1       0.769\n",
            "         0.3        poly         100           1       0.800\n",
            "         0.3         rbf         0.1        0.01       0.323\n",
            "         0.3         rbf         0.1         0.1       0.446\n",
            "         0.3         rbf         0.1           1       0.323\n",
            "         0.3         rbf           1        0.01       0.431\n",
            "         0.3         rbf           1         0.1       0.677\n",
            "         0.3         rbf           1           1       0.708\n",
            "         0.3         rbf          10        0.01       0.600\n",
            "         0.3         rbf          10         0.1       0.769\n",
            "         0.3         rbf          10           1       0.708\n",
            "         0.3         rbf         100        0.01       0.754\n",
            "         0.3         rbf         100         0.1       0.738\n",
            "         0.3         rbf         100           1       0.692\n",
            "         0.3     sigmoid         0.1        0.01       0.323\n",
            "         0.3     sigmoid         0.1         0.1       0.323\n",
            "         0.3     sigmoid         0.1           1       0.323\n",
            "         0.3     sigmoid           1        0.01       0.323\n",
            "         0.3     sigmoid           1         0.1       0.323\n",
            "         0.3     sigmoid           1           1       0.323\n",
            "         0.3     sigmoid          10        0.01       0.323\n",
            "         0.3     sigmoid          10         0.1       0.323\n",
            "         0.3     sigmoid          10           1       0.323\n",
            "         0.3     sigmoid         100        0.01       0.323\n",
            "         0.3     sigmoid         100         0.1       0.323\n",
            "         0.3     sigmoid         100           1       0.323\n",
            "         0.4      linear         0.1        0.01       0.512\n",
            "         0.4      linear         0.1         0.1       0.512\n",
            "         0.4      linear         0.1           1       0.512\n",
            "         0.4      linear           1        0.01       0.605\n",
            "         0.4      linear           1         0.1       0.605\n",
            "         0.4      linear           1           1       0.605\n",
            "         0.4      linear          10        0.01       0.733\n",
            "         0.4      linear          10         0.1       0.733\n",
            "         0.4      linear          10           1       0.733\n",
            "         0.4      linear         100        0.01       0.756\n",
            "         0.4      linear         100         0.1       0.756\n",
            "         0.4      linear         100           1       0.756\n",
            "         0.4        poly         0.1        0.01       0.709\n",
            "         0.4        poly         0.1         0.1       0.733\n",
            "         0.4        poly         0.1           1       0.709\n",
            "         0.4        poly           1        0.01       0.756\n",
            "         0.4        poly           1         0.1       0.744\n",
            "         0.4        poly           1           1       0.733\n",
            "         0.4        poly          10        0.01       0.767\n",
            "         0.4        poly          10         0.1       0.756\n",
            "         0.4        poly          10           1       0.733\n",
            "         0.4        poly         100        0.01       0.744\n",
            "         0.4        poly         100         0.1       0.756\n",
            "         0.4        poly         100           1       0.733\n",
            "         0.4         rbf         0.1        0.01       0.302\n",
            "         0.4         rbf         0.1         0.1       0.407\n",
            "         0.4         rbf         0.1           1       0.302\n",
            "         0.4         rbf           1        0.01       0.430\n",
            "         0.4         rbf           1         0.1       0.628\n",
            "         0.4         rbf           1           1       0.674\n",
            "         0.4         rbf          10        0.01       0.616\n",
            "         0.4         rbf          10         0.1       0.744\n",
            "         0.4         rbf          10           1       0.640\n",
            "         0.4         rbf         100        0.01       0.744\n",
            "         0.4         rbf         100         0.1       0.733\n",
            "         0.4         rbf         100           1       0.651\n",
            "         0.4     sigmoid         0.1        0.01       0.302\n",
            "         0.4     sigmoid         0.1         0.1       0.302\n",
            "         0.4     sigmoid         0.1           1       0.302\n",
            "         0.4     sigmoid           1        0.01       0.302\n",
            "         0.4     sigmoid           1         0.1       0.302\n",
            "         0.4     sigmoid           1           1       0.302\n",
            "         0.4     sigmoid          10        0.01       0.302\n",
            "         0.4     sigmoid          10         0.1       0.302\n",
            "         0.4     sigmoid          10           1       0.302\n",
            "         0.4     sigmoid         100        0.01       0.302\n",
            "         0.4     sigmoid         100         0.1       0.302\n",
            "         0.4     sigmoid         100           1       0.302\n",
            "         0.5      linear         0.1        0.01       0.561\n",
            "         0.5      linear         0.1         0.1       0.561\n",
            "         0.5      linear         0.1           1       0.561\n",
            "         0.5      linear           1        0.01       0.617\n",
            "         0.5      linear           1         0.1       0.617\n",
            "         0.5      linear           1           1       0.617\n",
            "         0.5      linear          10        0.01       0.692\n",
            "         0.5      linear          10         0.1       0.692\n",
            "         0.5      linear          10           1       0.692\n",
            "         0.5      linear         100        0.01       0.701\n",
            "         0.5      linear         100         0.1       0.701\n",
            "         0.5      linear         100           1       0.701\n",
            "         0.5        poly         0.1        0.01       0.692\n",
            "         0.5        poly         0.1         0.1       0.682\n",
            "         0.5        poly         0.1           1       0.645\n",
            "         0.5        poly           1        0.01       0.692\n",
            "         0.5        poly           1         0.1       0.720\n",
            "         0.5        poly           1           1       0.664\n",
            "         0.5        poly          10        0.01       0.701\n",
            "         0.5        poly          10         0.1       0.710\n",
            "         0.5        poly          10           1       0.645\n",
            "         0.5        poly         100        0.01       0.710\n",
            "         0.5        poly         100         0.1       0.710\n",
            "         0.5        poly         100           1       0.645\n",
            "         0.5         rbf         0.1        0.01       0.308\n",
            "         0.5         rbf         0.1         0.1       0.308\n",
            "         0.5         rbf         0.1           1       0.308\n",
            "         0.5         rbf           1        0.01       0.449\n",
            "         0.5         rbf           1         0.1       0.626\n",
            "         0.5         rbf           1           1       0.692\n",
            "         0.5         rbf          10        0.01       0.589\n",
            "         0.5         rbf          10         0.1       0.757\n",
            "         0.5         rbf          10           1       0.692\n",
            "         0.5         rbf         100        0.01       0.701\n",
            "         0.5         rbf         100         0.1       0.738\n",
            "         0.5         rbf         100           1       0.636\n",
            "         0.5     sigmoid         0.1        0.01       0.308\n",
            "         0.5     sigmoid         0.1         0.1       0.308\n",
            "         0.5     sigmoid         0.1           1       0.308\n",
            "         0.5     sigmoid           1        0.01       0.308\n",
            "         0.5     sigmoid           1         0.1       0.308\n",
            "         0.5     sigmoid           1           1       0.308\n",
            "         0.5     sigmoid          10        0.01       0.308\n",
            "         0.5     sigmoid          10         0.1       0.308\n",
            "         0.5     sigmoid          10           1       0.308\n",
            "         0.5     sigmoid         100        0.01       0.308\n",
            "         0.5     sigmoid         100         0.1       0.308\n",
            "         0.5     sigmoid         100           1       0.308\n",
            "         0.6      linear         0.1        0.01       0.550\n",
            "         0.6      linear         0.1         0.1       0.550\n",
            "         0.6      linear         0.1           1       0.550\n",
            "         0.6      linear           1        0.01       0.589\n",
            "         0.6      linear           1         0.1       0.589\n",
            "         0.6      linear           1           1       0.589\n",
            "         0.6      linear          10        0.01       0.636\n",
            "         0.6      linear          10         0.1       0.636\n",
            "         0.6      linear          10           1       0.636\n",
            "         0.6      linear         100        0.01       0.643\n",
            "         0.6      linear         100         0.1       0.643\n",
            "         0.6      linear         100           1       0.643\n",
            "         0.6        poly         0.1        0.01       0.643\n",
            "         0.6        poly         0.1         0.1       0.643\n",
            "         0.6        poly         0.1           1       0.659\n",
            "         0.6        poly           1        0.01       0.651\n",
            "         0.6        poly           1         0.1       0.674\n",
            "         0.6        poly           1           1       0.659\n",
            "         0.6        poly          10        0.01       0.667\n",
            "         0.6        poly          10         0.1       0.659\n",
            "         0.6        poly          10           1       0.659\n",
            "         0.6        poly         100        0.01       0.620\n",
            "         0.6        poly         100         0.1       0.659\n",
            "         0.6        poly         100           1       0.659\n",
            "         0.6         rbf         0.1        0.01       0.318\n",
            "         0.6         rbf         0.1         0.1       0.318\n",
            "         0.6         rbf         0.1           1       0.318\n",
            "         0.6         rbf           1        0.01       0.326\n",
            "         0.6         rbf           1         0.1       0.605\n",
            "         0.6         rbf           1           1       0.651\n",
            "         0.6         rbf          10        0.01       0.543\n",
            "         0.6         rbf          10         0.1       0.729\n",
            "         0.6         rbf          10           1       0.628\n",
            "         0.6         rbf         100        0.01       0.674\n",
            "         0.6         rbf         100         0.1       0.667\n",
            "         0.6         rbf         100           1       0.574\n",
            "         0.6     sigmoid         0.1        0.01       0.318\n",
            "         0.6     sigmoid         0.1         0.1       0.318\n",
            "         0.6     sigmoid         0.1           1       0.318\n",
            "         0.6     sigmoid           1        0.01       0.318\n",
            "         0.6     sigmoid           1         0.1       0.318\n",
            "         0.6     sigmoid           1           1       0.318\n",
            "         0.6     sigmoid          10        0.01       0.318\n",
            "         0.6     sigmoid          10         0.1       0.318\n",
            "         0.6     sigmoid          10           1       0.318\n",
            "         0.6     sigmoid         100        0.01       0.318\n",
            "         0.6     sigmoid         100         0.1       0.318\n",
            "         0.6     sigmoid         100           1       0.318\n"
          ],
          "name": "stdout"
        }
      ]
    },
    {
      "cell_type": "markdown",
      "metadata": {
        "id": "defHV_F0rSHt"
      },
      "source": [
        "# **Decision Tree**"
      ]
    },
    {
      "cell_type": "markdown",
      "metadata": {
        "id": "g6juz2Gq1V67"
      },
      "source": [
        "Menggunakan file csv yang berbeda dimana untuk setiap fitur dijadikan categorical berdasarkan kuantil. Nilai untuk setiap fitur antara 0, 1, 2 yang masing-masing merepresentasikan rendah, sedang, dan tinggi."
      ]
    },
    {
      "cell_type": "code",
      "metadata": {
        "colab": {
          "base_uri": "https://localhost:8080/",
          "height": 204
        },
        "id": "18HFppE2kJkr",
        "outputId": "581ef9f7-d6fc-42c2-9872-5d7f74099002"
      },
      "source": [
        "df = pd.read_csv(\"glass2.csv\")\n",
        "df.head()"
      ],
      "execution_count": null,
      "outputs": [
        {
          "output_type": "execute_result",
          "data": {
            "text/html": [
              "<div>\n",
              "<style scoped>\n",
              "    .dataframe tbody tr th:only-of-type {\n",
              "        vertical-align: middle;\n",
              "    }\n",
              "\n",
              "    .dataframe tbody tr th {\n",
              "        vertical-align: top;\n",
              "    }\n",
              "\n",
              "    .dataframe thead th {\n",
              "        text-align: right;\n",
              "    }\n",
              "</style>\n",
              "<table border=\"1\" class=\"dataframe\">\n",
              "  <thead>\n",
              "    <tr style=\"text-align: right;\">\n",
              "      <th></th>\n",
              "      <th>RI</th>\n",
              "      <th>Na</th>\n",
              "      <th>Mg</th>\n",
              "      <th>Al</th>\n",
              "      <th>Si</th>\n",
              "      <th>K</th>\n",
              "      <th>Ca</th>\n",
              "      <th>Ba</th>\n",
              "      <th>Fe</th>\n",
              "      <th>Type</th>\n",
              "    </tr>\n",
              "  </thead>\n",
              "  <tbody>\n",
              "    <tr>\n",
              "      <th>0</th>\n",
              "      <td>2.0</td>\n",
              "      <td>2.0</td>\n",
              "      <td>2.0</td>\n",
              "      <td>0.0</td>\n",
              "      <td>0.0</td>\n",
              "      <td>0.0</td>\n",
              "      <td>1.0</td>\n",
              "      <td>0.0</td>\n",
              "      <td>0.0</td>\n",
              "      <td>0</td>\n",
              "    </tr>\n",
              "    <tr>\n",
              "      <th>1</th>\n",
              "      <td>1.0</td>\n",
              "      <td>2.0</td>\n",
              "      <td>2.0</td>\n",
              "      <td>1.0</td>\n",
              "      <td>1.0</td>\n",
              "      <td>2.0</td>\n",
              "      <td>0.0</td>\n",
              "      <td>0.0</td>\n",
              "      <td>0.0</td>\n",
              "      <td>0</td>\n",
              "    </tr>\n",
              "    <tr>\n",
              "      <th>2</th>\n",
              "      <td>0.0</td>\n",
              "      <td>1.0</td>\n",
              "      <td>1.0</td>\n",
              "      <td>2.0</td>\n",
              "      <td>2.0</td>\n",
              "      <td>2.0</td>\n",
              "      <td>0.0</td>\n",
              "      <td>0.0</td>\n",
              "      <td>0.0</td>\n",
              "      <td>0</td>\n",
              "    </tr>\n",
              "    <tr>\n",
              "      <th>3</th>\n",
              "      <td>1.0</td>\n",
              "      <td>1.0</td>\n",
              "      <td>2.0</td>\n",
              "      <td>1.0</td>\n",
              "      <td>1.0</td>\n",
              "      <td>2.0</td>\n",
              "      <td>0.0</td>\n",
              "      <td>0.0</td>\n",
              "      <td>0.0</td>\n",
              "      <td>0</td>\n",
              "    </tr>\n",
              "    <tr>\n",
              "      <th>4</th>\n",
              "      <td>1.0</td>\n",
              "      <td>1.0</td>\n",
              "      <td>2.0</td>\n",
              "      <td>0.0</td>\n",
              "      <td>2.0</td>\n",
              "      <td>2.0</td>\n",
              "      <td>0.0</td>\n",
              "      <td>0.0</td>\n",
              "      <td>0.0</td>\n",
              "      <td>0</td>\n",
              "    </tr>\n",
              "  </tbody>\n",
              "</table>\n",
              "</div>"
            ],
            "text/plain": [
              "    RI   Na   Mg   Al   Si    K   Ca   Ba   Fe  Type\n",
              "0  2.0  2.0  2.0  0.0  0.0  0.0  1.0  0.0  0.0     0\n",
              "1  1.0  2.0  2.0  1.0  1.0  2.0  0.0  0.0  0.0     0\n",
              "2  0.0  1.0  1.0  2.0  2.0  2.0  0.0  0.0  0.0     0\n",
              "3  1.0  1.0  2.0  1.0  1.0  2.0  0.0  0.0  0.0     0\n",
              "4  1.0  1.0  2.0  0.0  2.0  2.0  0.0  0.0  0.0     0"
            ]
          },
          "metadata": {
            "tags": []
          },
          "execution_count": 39
        }
      ]
    },
    {
      "cell_type": "markdown",
      "metadata": {
        "id": "Z1Ic-GvzAorW"
      },
      "source": [
        "Membagi dataset menjadi 2 array, X berisi fitur sedangkan y berisi target label."
      ]
    },
    {
      "cell_type": "code",
      "metadata": {
        "id": "PZiix2mhvooB"
      },
      "source": [
        "X = df[['RI', 'Na', 'Mg', 'Al', 'Si', 'K', 'Ca', 'Ba', 'Fe']] # Features\n",
        "y = df[['Type']] # Target variable"
      ],
      "execution_count": null,
      "outputs": []
    },
    {
      "cell_type": "code",
      "metadata": {
        "colab": {
          "base_uri": "https://localhost:8080/"
        },
        "id": "8DI5DZlXo_z4",
        "outputId": "b56b5830-090c-43a8-ec61-c5af5fbfbd5b"
      },
      "source": [
        "params = {\n",
        "        'criterion': ['gini', 'entropy'],\n",
        "        'max_depth': [3, 5, 7, 9],\n",
        "}\n",
        "print_format = '{:>12}' * 4\n",
        "print(print_format.format('Test size', 'Criterion', 'Max depth', 'Akurasi'))\n",
        "for i in list(range(1, 10)):\n",
        "  for j in params['criterion']:\n",
        "    for k in params['max_depth']:\n",
        "      X_train, X_test, y_train, y_test = train_test_split(X, y, test_size=i/10, random_state=1)\n",
        "      clf = DecisionTreeClassifier(criterion=j, max_depth=k)\n",
        "      clf.fit(X_train, y_train.values.ravel())\n",
        "      y_pred = clf.predict(X_test)\n",
        "      print(print_format.format(i/10, j, str(k), '%.2f' %metrics.accuracy_score(y_test, y_pred)))"
      ],
      "execution_count": null,
      "outputs": [
        {
          "output_type": "stream",
          "text": [
            "   Test size   Criterion   Max depth     Akurasi\n",
            "         0.1        gini           3        0.73\n",
            "         0.1        gini           5        0.68\n",
            "         0.1        gini           7        0.73\n",
            "         0.1        gini           9        0.73\n",
            "         0.1     entropy           3        0.64\n",
            "         0.1     entropy           5        0.82\n",
            "         0.1     entropy           7        0.64\n",
            "         0.1     entropy           9        0.64\n",
            "         0.2        gini           3        0.70\n",
            "         0.2        gini           5        0.77\n",
            "         0.2        gini           7        0.74\n",
            "         0.2        gini           9        0.72\n",
            "         0.2     entropy           3        0.70\n",
            "         0.2     entropy           5        0.77\n",
            "         0.2     entropy           7        0.70\n",
            "         0.2     entropy           9        0.67\n",
            "         0.3        gini           3        0.69\n",
            "         0.3        gini           5        0.68\n",
            "         0.3        gini           7        0.74\n",
            "         0.3        gini           9        0.75\n",
            "         0.3     entropy           3        0.68\n",
            "         0.3     entropy           5        0.66\n",
            "         0.3     entropy           7        0.75\n",
            "         0.3     entropy           9        0.71\n",
            "         0.4        gini           3        0.65\n",
            "         0.4        gini           5        0.65\n",
            "         0.4        gini           7        0.72\n",
            "         0.4        gini           9        0.69\n",
            "         0.4     entropy           3        0.69\n",
            "         0.4     entropy           5        0.63\n",
            "         0.4     entropy           7        0.70\n",
            "         0.4     entropy           9        0.67\n",
            "         0.5        gini           3        0.66\n",
            "         0.5        gini           5        0.66\n",
            "         0.5        gini           7        0.65\n",
            "         0.5        gini           9        0.64\n",
            "         0.5     entropy           3        0.64\n",
            "         0.5     entropy           5        0.60\n",
            "         0.5     entropy           7        0.69\n",
            "         0.5     entropy           9        0.66\n",
            "         0.6        gini           3        0.43\n",
            "         0.6        gini           5        0.57\n",
            "         0.6        gini           7        0.67\n",
            "         0.6        gini           9        0.64\n",
            "         0.6     entropy           3        0.60\n",
            "         0.6     entropy           5        0.60\n",
            "         0.6     entropy           7        0.64\n",
            "         0.6     entropy           9        0.65\n",
            "         0.7        gini           3        0.59\n",
            "         0.7        gini           5        0.57\n",
            "         0.7        gini           7        0.59\n",
            "         0.7        gini           9        0.61\n",
            "         0.7     entropy           3        0.59\n",
            "         0.7     entropy           5        0.61\n",
            "         0.7     entropy           7        0.59\n",
            "         0.7     entropy           9        0.61\n",
            "         0.8        gini           3        0.58\n",
            "         0.8        gini           5        0.56\n",
            "         0.8        gini           7        0.49\n",
            "         0.8        gini           9        0.59\n",
            "         0.8     entropy           3        0.54\n",
            "         0.8     entropy           5        0.55\n",
            "         0.8     entropy           7        0.58\n",
            "         0.8     entropy           9        0.58\n",
            "         0.9        gini           3        0.49\n",
            "         0.9        gini           5        0.52\n",
            "         0.9        gini           7        0.48\n",
            "         0.9        gini           9        0.50\n",
            "         0.9     entropy           3        0.44\n",
            "         0.9     entropy           5        0.50\n",
            "         0.9     entropy           7        0.49\n",
            "         0.9     entropy           9        0.53\n"
          ],
          "name": "stdout"
        }
      ]
    },
    {
      "cell_type": "markdown",
      "metadata": {
        "id": "8h8AAtHYru_h"
      },
      "source": [
        "# **KNN**"
      ]
    },
    {
      "cell_type": "markdown",
      "metadata": {
        "id": "MkwY0QoP2AUt"
      },
      "source": [
        "Menggunakan file yang sama dengan yang digunakan SVM."
      ]
    },
    {
      "cell_type": "code",
      "metadata": {
        "colab": {
          "base_uri": "https://localhost:8080/",
          "height": 204
        },
        "id": "EqSVEB_Cvz8M",
        "outputId": "7c12fad4-de68-4089-977a-f2f6aff05666"
      },
      "source": [
        "df = pd.read_csv(\"glass.csv\")\n",
        "df.head()"
      ],
      "execution_count": null,
      "outputs": [
        {
          "output_type": "execute_result",
          "data": {
            "text/html": [
              "<div>\n",
              "<style scoped>\n",
              "    .dataframe tbody tr th:only-of-type {\n",
              "        vertical-align: middle;\n",
              "    }\n",
              "\n",
              "    .dataframe tbody tr th {\n",
              "        vertical-align: top;\n",
              "    }\n",
              "\n",
              "    .dataframe thead th {\n",
              "        text-align: right;\n",
              "    }\n",
              "</style>\n",
              "<table border=\"1\" class=\"dataframe\">\n",
              "  <thead>\n",
              "    <tr style=\"text-align: right;\">\n",
              "      <th></th>\n",
              "      <th>RI</th>\n",
              "      <th>Na</th>\n",
              "      <th>Mg</th>\n",
              "      <th>Al</th>\n",
              "      <th>Si</th>\n",
              "      <th>K</th>\n",
              "      <th>Ca</th>\n",
              "      <th>Ba</th>\n",
              "      <th>Fe</th>\n",
              "      <th>Type</th>\n",
              "    </tr>\n",
              "  </thead>\n",
              "  <tbody>\n",
              "    <tr>\n",
              "      <th>0</th>\n",
              "      <td>1.52101</td>\n",
              "      <td>13.64</td>\n",
              "      <td>4.49</td>\n",
              "      <td>1.10</td>\n",
              "      <td>71.78</td>\n",
              "      <td>0.06</td>\n",
              "      <td>8.75</td>\n",
              "      <td>0.0</td>\n",
              "      <td>0.0</td>\n",
              "      <td>1</td>\n",
              "    </tr>\n",
              "    <tr>\n",
              "      <th>1</th>\n",
              "      <td>1.51761</td>\n",
              "      <td>13.89</td>\n",
              "      <td>3.60</td>\n",
              "      <td>1.36</td>\n",
              "      <td>72.73</td>\n",
              "      <td>0.48</td>\n",
              "      <td>7.83</td>\n",
              "      <td>0.0</td>\n",
              "      <td>0.0</td>\n",
              "      <td>1</td>\n",
              "    </tr>\n",
              "    <tr>\n",
              "      <th>2</th>\n",
              "      <td>1.51618</td>\n",
              "      <td>13.53</td>\n",
              "      <td>3.55</td>\n",
              "      <td>1.54</td>\n",
              "      <td>72.99</td>\n",
              "      <td>0.39</td>\n",
              "      <td>7.78</td>\n",
              "      <td>0.0</td>\n",
              "      <td>0.0</td>\n",
              "      <td>1</td>\n",
              "    </tr>\n",
              "    <tr>\n",
              "      <th>3</th>\n",
              "      <td>1.51766</td>\n",
              "      <td>13.21</td>\n",
              "      <td>3.69</td>\n",
              "      <td>1.29</td>\n",
              "      <td>72.61</td>\n",
              "      <td>0.57</td>\n",
              "      <td>8.22</td>\n",
              "      <td>0.0</td>\n",
              "      <td>0.0</td>\n",
              "      <td>1</td>\n",
              "    </tr>\n",
              "    <tr>\n",
              "      <th>4</th>\n",
              "      <td>1.51742</td>\n",
              "      <td>13.27</td>\n",
              "      <td>3.62</td>\n",
              "      <td>1.24</td>\n",
              "      <td>73.08</td>\n",
              "      <td>0.55</td>\n",
              "      <td>8.07</td>\n",
              "      <td>0.0</td>\n",
              "      <td>0.0</td>\n",
              "      <td>1</td>\n",
              "    </tr>\n",
              "  </tbody>\n",
              "</table>\n",
              "</div>"
            ],
            "text/plain": [
              "        RI     Na    Mg    Al     Si     K    Ca   Ba   Fe  Type\n",
              "0  1.52101  13.64  4.49  1.10  71.78  0.06  8.75  0.0  0.0     1\n",
              "1  1.51761  13.89  3.60  1.36  72.73  0.48  7.83  0.0  0.0     1\n",
              "2  1.51618  13.53  3.55  1.54  72.99  0.39  7.78  0.0  0.0     1\n",
              "3  1.51766  13.21  3.69  1.29  72.61  0.57  8.22  0.0  0.0     1\n",
              "4  1.51742  13.27  3.62  1.24  73.08  0.55  8.07  0.0  0.0     1"
            ]
          },
          "metadata": {
            "tags": []
          },
          "execution_count": 42
        }
      ]
    },
    {
      "cell_type": "code",
      "metadata": {
        "id": "BKpo9ziMwE5f"
      },
      "source": [
        "X = df[['RI', 'Na', 'Mg', 'Al', 'Si', 'K', 'Ca', 'Ba', 'Fe']] # Features\n",
        "y = df[['Type']] # Target variable"
      ],
      "execution_count": null,
      "outputs": []
    },
    {
      "cell_type": "markdown",
      "metadata": {
        "id": "aYLcf6Vru0CF"
      },
      "source": [
        "## **KNN Ball Tree**"
      ]
    },
    {
      "cell_type": "code",
      "metadata": {
        "colab": {
          "base_uri": "https://localhost:8080/"
        },
        "id": "yUuRzMvSrxus",
        "outputId": "92acb0e6-7d55-4328-e557-3c0d53651b84"
      },
      "source": [
        "params = {\n",
        "    'n_neighbor': [3, 5, 7],\n",
        "    'weights': ['uniform', 'distance']\n",
        "}\n",
        "print_format = '{:>12}' * 4\n",
        "print(print_format.format('Test size', 'Weights', 'Neighbors', 'Akurasi'))\n",
        "for i in list(range(1, 10)):\n",
        "  for j in params['weights']:\n",
        "    for k in params['n_neighbor']:\n",
        "      X_train, X_test, y_train, y_test = train_test_split(X, y, test_size=i/10, random_state=1)\n",
        "      clf = KNeighborsClassifier(algorithm='ball_tree', weights=j, n_neighbors=k)\n",
        "      clf.fit(X_train, y_train.values.ravel())\n",
        "      y_pred = clf.predict(X_test)\n",
        "      print(print_format.format(i/10, j, str(k), '%.2f' %metrics.accuracy_score(y_test, y_pred)))"
      ],
      "execution_count": null,
      "outputs": [
        {
          "output_type": "stream",
          "text": [
            "   Test size     Weights   Neighbors     Akurasi\n",
            "         0.1     uniform           3        0.68\n",
            "         0.1     uniform           5        0.68\n",
            "         0.1     uniform           7        0.64\n",
            "         0.1    distance           3        0.55\n",
            "         0.1    distance           5        0.68\n",
            "         0.1    distance           7        0.68\n",
            "         0.2     uniform           3        0.70\n",
            "         0.2     uniform           5        0.72\n",
            "         0.2     uniform           7        0.70\n",
            "         0.2    distance           3        0.65\n",
            "         0.2    distance           5        0.70\n",
            "         0.2    distance           7        0.70\n",
            "         0.3     uniform           3        0.72\n",
            "         0.3     uniform           5        0.74\n",
            "         0.3     uniform           7        0.74\n",
            "         0.3    distance           3        0.71\n",
            "         0.3    distance           5        0.74\n",
            "         0.3    distance           7        0.74\n",
            "         0.4     uniform           3        0.70\n",
            "         0.4     uniform           5        0.69\n",
            "         0.4     uniform           7        0.63\n",
            "         0.4    distance           3        0.67\n",
            "         0.4    distance           5        0.67\n",
            "         0.4    distance           7        0.67\n",
            "         0.5     uniform           3        0.71\n",
            "         0.5     uniform           5        0.64\n",
            "         0.5     uniform           7        0.63\n",
            "         0.5    distance           3        0.70\n",
            "         0.5    distance           5        0.72\n",
            "         0.5    distance           7        0.68\n",
            "         0.6     uniform           3        0.68\n",
            "         0.6     uniform           5        0.67\n",
            "         0.6     uniform           7        0.66\n",
            "         0.6    distance           3        0.66\n",
            "         0.6    distance           5        0.70\n",
            "         0.6    distance           7        0.66\n",
            "         0.7     uniform           3        0.62\n",
            "         0.7     uniform           5        0.61\n",
            "         0.7     uniform           7        0.64\n",
            "         0.7    distance           3        0.61\n",
            "         0.7    distance           5        0.63\n",
            "         0.7    distance           7        0.66\n",
            "         0.8     uniform           3        0.61\n",
            "         0.8     uniform           5        0.62\n",
            "         0.8     uniform           7        0.60\n",
            "         0.8    distance           3        0.62\n",
            "         0.8    distance           5        0.62\n",
            "         0.8    distance           7        0.60\n",
            "         0.9     uniform           3        0.55\n",
            "         0.9     uniform           5        0.46\n",
            "         0.9     uniform           7        0.36\n",
            "         0.9    distance           3        0.52\n",
            "         0.9    distance           5        0.52\n",
            "         0.9    distance           7        0.50\n"
          ],
          "name": "stdout"
        }
      ]
    },
    {
      "cell_type": "markdown",
      "metadata": {
        "id": "QGkl6fY3u6CZ"
      },
      "source": [
        "## **KNN KD Tree**"
      ]
    },
    {
      "cell_type": "code",
      "metadata": {
        "colab": {
          "base_uri": "https://localhost:8080/"
        },
        "id": "VhSMcH7ivCoL",
        "outputId": "a84f13fe-3422-4aae-db74-a2045da7e12f"
      },
      "source": [
        "params = {\n",
        "    'n_neighbor': [3, 5, 7],\n",
        "    'weights': ['uniform', 'distance']\n",
        "}\n",
        "print_format = '{:>12}' * 4\n",
        "print(print_format.format('Test size', 'Weights', 'Neighbors', 'Akurasi'))\n",
        "for i in list(range(1, 10)):\n",
        "  for j in params['weights']:\n",
        "    for k in params['n_neighbor']:\n",
        "      X_train, X_test, y_train, y_test = train_test_split(X, y, test_size=i/10, random_state=1)\n",
        "      clf = KNeighborsClassifier(algorithm='kd_tree', weights=j, n_neighbors=k)\n",
        "      clf.fit(X_train, y_train.values.ravel())\n",
        "      y_pred = clf.predict(X_test)\n",
        "      print(print_format.format(i/10, j, str(k), '%.2f' %metrics.accuracy_score(y_test, y_pred)))"
      ],
      "execution_count": null,
      "outputs": [
        {
          "output_type": "stream",
          "text": [
            "   Test size     Weights   Neighbors     Akurasi\n",
            "         0.1     uniform           3        0.68\n",
            "         0.1     uniform           5        0.68\n",
            "         0.1     uniform           7        0.64\n",
            "         0.1    distance           3        0.55\n",
            "         0.1    distance           5        0.68\n",
            "         0.1    distance           7        0.68\n",
            "         0.2     uniform           3        0.70\n",
            "         0.2     uniform           5        0.72\n",
            "         0.2     uniform           7        0.70\n",
            "         0.2    distance           3        0.65\n",
            "         0.2    distance           5        0.70\n",
            "         0.2    distance           7        0.70\n",
            "         0.3     uniform           3        0.72\n",
            "         0.3     uniform           5        0.74\n",
            "         0.3     uniform           7        0.74\n",
            "         0.3    distance           3        0.71\n",
            "         0.3    distance           5        0.74\n",
            "         0.3    distance           7        0.74\n",
            "         0.4     uniform           3        0.70\n",
            "         0.4     uniform           5        0.69\n",
            "         0.4     uniform           7        0.63\n",
            "         0.4    distance           3        0.67\n",
            "         0.4    distance           5        0.67\n",
            "         0.4    distance           7        0.67\n",
            "         0.5     uniform           3        0.71\n",
            "         0.5     uniform           5        0.64\n",
            "         0.5     uniform           7        0.63\n",
            "         0.5    distance           3        0.70\n",
            "         0.5    distance           5        0.72\n",
            "         0.5    distance           7        0.68\n",
            "         0.6     uniform           3        0.68\n",
            "         0.6     uniform           5        0.67\n",
            "         0.6     uniform           7        0.66\n",
            "         0.6    distance           3        0.66\n",
            "         0.6    distance           5        0.70\n",
            "         0.6    distance           7        0.66\n",
            "         0.7     uniform           3        0.62\n",
            "         0.7     uniform           5        0.61\n",
            "         0.7     uniform           7        0.64\n",
            "         0.7    distance           3        0.61\n",
            "         0.7    distance           5        0.63\n",
            "         0.7    distance           7        0.66\n",
            "         0.8     uniform           3        0.61\n",
            "         0.8     uniform           5        0.62\n",
            "         0.8     uniform           7        0.60\n",
            "         0.8    distance           3        0.62\n",
            "         0.8    distance           5        0.62\n",
            "         0.8    distance           7        0.60\n",
            "         0.9     uniform           3        0.55\n",
            "         0.9     uniform           5        0.46\n",
            "         0.9     uniform           7        0.36\n",
            "         0.9    distance           3        0.52\n",
            "         0.9    distance           5        0.52\n",
            "         0.9    distance           7        0.50\n"
          ],
          "name": "stdout"
        }
      ]
    },
    {
      "cell_type": "markdown",
      "metadata": {
        "id": "FqOs_qnmu9zx"
      },
      "source": [
        "## **KNN Brute**"
      ]
    },
    {
      "cell_type": "code",
      "metadata": {
        "colab": {
          "base_uri": "https://localhost:8080/"
        },
        "id": "yGhcaiCivCBv",
        "outputId": "d852b5c0-364a-4465-a853-ea69ed4854e0"
      },
      "source": [
        "params = {\n",
        "    'n_neighbor': [3, 5, 7],\n",
        "    'weights': ['uniform', 'distance']\n",
        "}\n",
        "print_format = '{:>12}' * 4\n",
        "print(print_format.format('Test size', 'Weights', 'Neighbors', 'Akurasi'))\n",
        "for i in list(range(1, 10)):\n",
        "  for j in params['weights']:\n",
        "    for k in params['n_neighbor']:\n",
        "      X_train, X_test, y_train, y_test = train_test_split(X, y, test_size=i/10, random_state=1)\n",
        "      clf = KNeighborsClassifier(algorithm='brute', weights=j, n_neighbors=k)\n",
        "      clf.fit(X_train, y_train.values.ravel())\n",
        "      y_pred = clf.predict(X_test)\n",
        "      print(print_format.format(i/10, j, str(k), '%.2f' %metrics.accuracy_score(y_test, y_pred)))"
      ],
      "execution_count": null,
      "outputs": [
        {
          "output_type": "stream",
          "text": [
            "   Test size     Weights   Neighbors     Akurasi\n",
            "         0.1     uniform           3        0.68\n",
            "         0.1     uniform           5        0.68\n",
            "         0.1     uniform           7        0.64\n",
            "         0.1    distance           3        0.55\n",
            "         0.1    distance           5        0.68\n",
            "         0.1    distance           7        0.68\n",
            "         0.2     uniform           3        0.70\n",
            "         0.2     uniform           5        0.72\n",
            "         0.2     uniform           7        0.70\n",
            "         0.2    distance           3        0.65\n",
            "         0.2    distance           5        0.70\n",
            "         0.2    distance           7        0.70\n",
            "         0.3     uniform           3        0.72\n",
            "         0.3     uniform           5        0.74\n",
            "         0.3     uniform           7        0.74\n",
            "         0.3    distance           3        0.71\n",
            "         0.3    distance           5        0.74\n",
            "         0.3    distance           7        0.74\n",
            "         0.4     uniform           3        0.70\n",
            "         0.4     uniform           5        0.69\n",
            "         0.4     uniform           7        0.63\n",
            "         0.4    distance           3        0.67\n",
            "         0.4    distance           5        0.67\n",
            "         0.4    distance           7        0.67\n",
            "         0.5     uniform           3        0.71\n",
            "         0.5     uniform           5        0.64\n",
            "         0.5     uniform           7        0.63\n",
            "         0.5    distance           3        0.70\n",
            "         0.5    distance           5        0.72\n",
            "         0.5    distance           7        0.68\n",
            "         0.6     uniform           3        0.68\n",
            "         0.6     uniform           5        0.67\n",
            "         0.6     uniform           7        0.66\n",
            "         0.6    distance           3        0.66\n",
            "         0.6    distance           5        0.70\n",
            "         0.6    distance           7        0.66\n",
            "         0.7     uniform           3        0.62\n",
            "         0.7     uniform           5        0.61\n",
            "         0.7     uniform           7        0.64\n",
            "         0.7    distance           3        0.61\n",
            "         0.7    distance           5        0.63\n",
            "         0.7    distance           7        0.66\n",
            "         0.8     uniform           3        0.61\n",
            "         0.8     uniform           5        0.62\n",
            "         0.8     uniform           7        0.60\n",
            "         0.8    distance           3        0.62\n",
            "         0.8    distance           5        0.62\n",
            "         0.8    distance           7        0.60\n",
            "         0.9     uniform           3        0.55\n",
            "         0.9     uniform           5        0.46\n",
            "         0.9     uniform           7        0.36\n",
            "         0.9    distance           3        0.52\n",
            "         0.9    distance           5        0.52\n",
            "         0.9    distance           7        0.50\n"
          ],
          "name": "stdout"
        }
      ]
    },
    {
      "cell_type": "markdown",
      "metadata": {
        "id": "eEtm5W7M2GyI"
      },
      "source": [
        "Catatan: Untuk semua algoritma KNN sepertinya menghasilkan akurasi yang sama."
      ]
    }
  ]
}