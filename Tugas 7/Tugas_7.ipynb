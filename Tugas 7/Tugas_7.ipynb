{
  "nbformat": 4,
  "nbformat_minor": 0,
  "metadata": {
    "colab": {
      "name": "Tugas 7.ipynb",
      "provenance": [],
      "collapsed_sections": []
    },
    "kernelspec": {
      "name": "python3",
      "display_name": "Python 3"
    }
  },
  "cells": [
    {
      "cell_type": "markdown",
      "metadata": {
        "id": "GIX7D7rm6MwP"
      },
      "source": [
        "Untuk mencatat execution time"
      ]
    },
    {
      "cell_type": "code",
      "metadata": {
        "colab": {
          "base_uri": "https://localhost:8080/"
        },
        "id": "UZM4DwuthJ7-",
        "outputId": "fde1ec3d-90ae-4723-ffb4-5251b3df9c99"
      },
      "source": [
        "!pip install ipython-autotime\r\n",
        "%load_ext autotime"
      ],
      "execution_count": null,
      "outputs": [
        {
          "output_type": "stream",
          "text": [
            "Requirement already satisfied: ipython-autotime in /usr/local/lib/python3.6/dist-packages (0.3.0)\n",
            "Requirement already satisfied: ipython in /usr/local/lib/python3.6/dist-packages (from ipython-autotime) (5.5.0)\n",
            "Requirement already satisfied: pygments in /usr/local/lib/python3.6/dist-packages (from ipython->ipython-autotime) (2.6.1)\n",
            "Requirement already satisfied: simplegeneric>0.8 in /usr/local/lib/python3.6/dist-packages (from ipython->ipython-autotime) (0.8.1)\n",
            "Requirement already satisfied: decorator in /usr/local/lib/python3.6/dist-packages (from ipython->ipython-autotime) (4.4.2)\n",
            "Requirement already satisfied: traitlets>=4.2 in /usr/local/lib/python3.6/dist-packages (from ipython->ipython-autotime) (4.3.3)\n",
            "Requirement already satisfied: prompt-toolkit<2.0.0,>=1.0.4 in /usr/local/lib/python3.6/dist-packages (from ipython->ipython-autotime) (1.0.18)\n",
            "Requirement already satisfied: setuptools>=18.5 in /usr/local/lib/python3.6/dist-packages (from ipython->ipython-autotime) (50.3.2)\n",
            "Requirement already satisfied: pexpect; sys_platform != \"win32\" in /usr/local/lib/python3.6/dist-packages (from ipython->ipython-autotime) (4.8.0)\n",
            "Requirement already satisfied: pickleshare in /usr/local/lib/python3.6/dist-packages (from ipython->ipython-autotime) (0.7.5)\n",
            "Requirement already satisfied: ipython-genutils in /usr/local/lib/python3.6/dist-packages (from traitlets>=4.2->ipython->ipython-autotime) (0.2.0)\n",
            "Requirement already satisfied: six in /usr/local/lib/python3.6/dist-packages (from traitlets>=4.2->ipython->ipython-autotime) (1.15.0)\n",
            "Requirement already satisfied: wcwidth in /usr/local/lib/python3.6/dist-packages (from prompt-toolkit<2.0.0,>=1.0.4->ipython->ipython-autotime) (0.2.5)\n",
            "Requirement already satisfied: ptyprocess>=0.5 in /usr/local/lib/python3.6/dist-packages (from pexpect; sys_platform != \"win32\"->ipython->ipython-autotime) (0.6.0)\n",
            "The autotime extension is already loaded. To reload it, use:\n",
            "  %reload_ext autotime\n",
            "time: 2.54 s (started: 2020-12-22 04:51:19 +00:00)\n"
          ],
          "name": "stdout"
        }
      ]
    },
    {
      "cell_type": "markdown",
      "metadata": {
        "id": "SP_OckyJ6WIB"
      },
      "source": [
        "Import pandas untuk dataframe dan numpy untuk pembulatan<br>\r\n",
        "Import train_test_split untuk mengatur test size, scaler untuk normalisasi, dan accuracy untuk akurasi<br>\r\n",
        "Import keras untuk CNN-nya<br>\r\n",
        "Import pyplot untuk plotting grafik"
      ]
    },
    {
      "cell_type": "code",
      "metadata": {
        "id": "g5wL55kONmOi",
        "colab": {
          "base_uri": "https://localhost:8080/"
        },
        "outputId": "04385674-4ce2-441d-d308-26879065d6f2"
      },
      "source": [
        "import pandas as pd\n",
        "import numpy as np\n",
        "\n",
        "from sklearn.model_selection import train_test_split\n",
        "from sklearn.preprocessing import MinMaxScaler\n",
        "from sklearn.metrics import accuracy_score\n",
        "\n",
        "from keras.layers.convolutional import Conv1D, MaxPooling1D\n",
        "from keras.optimizers import Adam\n",
        "from keras.models import Sequential\n",
        "from keras.layers import Dense, Dropout, Flatten\n",
        "from keras.callbacks import EarlyStopping\n",
        "\n",
        "import matplotlib.pyplot as plt\n",
        "\n",
        "import time"
      ],
      "execution_count": null,
      "outputs": [
        {
          "output_type": "stream",
          "text": [
            "time: 4 ms (started: 2020-12-22 01:55:36 +00:00)\n"
          ],
          "name": "stdout"
        }
      ]
    },
    {
      "cell_type": "markdown",
      "metadata": {
        "id": "H86cK_eJ7hJE"
      },
      "source": [
        "Meng-import file csv dan melihat isinya\r\n"
      ]
    },
    {
      "cell_type": "code",
      "metadata": {
        "colab": {
          "base_uri": "https://localhost:8080/",
          "height": 445
        },
        "id": "JjnN5Jh_d5zF",
        "outputId": "415ca67f-dd48-411d-9698-26ff56a786e8"
      },
      "source": [
        "df = pd.read_csv('data.csv')\n",
        "df.head()"
      ],
      "execution_count": null,
      "outputs": [
        {
          "output_type": "execute_result",
          "data": {
            "text/html": [
              "<div>\n",
              "<style scoped>\n",
              "    .dataframe tbody tr th:only-of-type {\n",
              "        vertical-align: middle;\n",
              "    }\n",
              "\n",
              "    .dataframe tbody tr th {\n",
              "        vertical-align: top;\n",
              "    }\n",
              "\n",
              "    .dataframe thead th {\n",
              "        text-align: right;\n",
              "    }\n",
              "</style>\n",
              "<table border=\"1\" class=\"dataframe\">\n",
              "  <thead>\n",
              "    <tr style=\"text-align: right;\">\n",
              "      <th></th>\n",
              "      <th>Make</th>\n",
              "      <th>Model</th>\n",
              "      <th>Year</th>\n",
              "      <th>Engine Fuel Type</th>\n",
              "      <th>Engine HP</th>\n",
              "      <th>Engine Cylinders</th>\n",
              "      <th>Transmission Type</th>\n",
              "      <th>Driven_Wheels</th>\n",
              "      <th>Number of Doors</th>\n",
              "      <th>Market Category</th>\n",
              "      <th>Vehicle Size</th>\n",
              "      <th>Vehicle Style</th>\n",
              "      <th>highway MPG</th>\n",
              "      <th>city mpg</th>\n",
              "      <th>Popularity</th>\n",
              "      <th>MSRP</th>\n",
              "    </tr>\n",
              "  </thead>\n",
              "  <tbody>\n",
              "    <tr>\n",
              "      <th>0</th>\n",
              "      <td>BMW</td>\n",
              "      <td>1 Series M</td>\n",
              "      <td>2011</td>\n",
              "      <td>premium unleaded (required)</td>\n",
              "      <td>335.0</td>\n",
              "      <td>6.0</td>\n",
              "      <td>MANUAL</td>\n",
              "      <td>rear wheel drive</td>\n",
              "      <td>2.0</td>\n",
              "      <td>Factory Tuner,Luxury,High-Performance</td>\n",
              "      <td>Compact</td>\n",
              "      <td>Coupe</td>\n",
              "      <td>26</td>\n",
              "      <td>19</td>\n",
              "      <td>3916</td>\n",
              "      <td>46135</td>\n",
              "    </tr>\n",
              "    <tr>\n",
              "      <th>1</th>\n",
              "      <td>BMW</td>\n",
              "      <td>1 Series</td>\n",
              "      <td>2011</td>\n",
              "      <td>premium unleaded (required)</td>\n",
              "      <td>300.0</td>\n",
              "      <td>6.0</td>\n",
              "      <td>MANUAL</td>\n",
              "      <td>rear wheel drive</td>\n",
              "      <td>2.0</td>\n",
              "      <td>Luxury,Performance</td>\n",
              "      <td>Compact</td>\n",
              "      <td>Convertible</td>\n",
              "      <td>28</td>\n",
              "      <td>19</td>\n",
              "      <td>3916</td>\n",
              "      <td>40650</td>\n",
              "    </tr>\n",
              "    <tr>\n",
              "      <th>2</th>\n",
              "      <td>BMW</td>\n",
              "      <td>1 Series</td>\n",
              "      <td>2011</td>\n",
              "      <td>premium unleaded (required)</td>\n",
              "      <td>300.0</td>\n",
              "      <td>6.0</td>\n",
              "      <td>MANUAL</td>\n",
              "      <td>rear wheel drive</td>\n",
              "      <td>2.0</td>\n",
              "      <td>Luxury,High-Performance</td>\n",
              "      <td>Compact</td>\n",
              "      <td>Coupe</td>\n",
              "      <td>28</td>\n",
              "      <td>20</td>\n",
              "      <td>3916</td>\n",
              "      <td>36350</td>\n",
              "    </tr>\n",
              "    <tr>\n",
              "      <th>3</th>\n",
              "      <td>BMW</td>\n",
              "      <td>1 Series</td>\n",
              "      <td>2011</td>\n",
              "      <td>premium unleaded (required)</td>\n",
              "      <td>230.0</td>\n",
              "      <td>6.0</td>\n",
              "      <td>MANUAL</td>\n",
              "      <td>rear wheel drive</td>\n",
              "      <td>2.0</td>\n",
              "      <td>Luxury,Performance</td>\n",
              "      <td>Compact</td>\n",
              "      <td>Coupe</td>\n",
              "      <td>28</td>\n",
              "      <td>18</td>\n",
              "      <td>3916</td>\n",
              "      <td>29450</td>\n",
              "    </tr>\n",
              "    <tr>\n",
              "      <th>4</th>\n",
              "      <td>BMW</td>\n",
              "      <td>1 Series</td>\n",
              "      <td>2011</td>\n",
              "      <td>premium unleaded (required)</td>\n",
              "      <td>230.0</td>\n",
              "      <td>6.0</td>\n",
              "      <td>MANUAL</td>\n",
              "      <td>rear wheel drive</td>\n",
              "      <td>2.0</td>\n",
              "      <td>Luxury</td>\n",
              "      <td>Compact</td>\n",
              "      <td>Convertible</td>\n",
              "      <td>28</td>\n",
              "      <td>18</td>\n",
              "      <td>3916</td>\n",
              "      <td>34500</td>\n",
              "    </tr>\n",
              "  </tbody>\n",
              "</table>\n",
              "</div>"
            ],
            "text/plain": [
              "  Make       Model  Year  ... city mpg  Popularity   MSRP\n",
              "0  BMW  1 Series M  2011  ...       19        3916  46135\n",
              "1  BMW    1 Series  2011  ...       19        3916  40650\n",
              "2  BMW    1 Series  2011  ...       20        3916  36350\n",
              "3  BMW    1 Series  2011  ...       18        3916  29450\n",
              "4  BMW    1 Series  2011  ...       18        3916  34500\n",
              "\n",
              "[5 rows x 16 columns]"
            ]
          },
          "metadata": {
            "tags": []
          },
          "execution_count": 3
        },
        {
          "output_type": "stream",
          "text": [
            "time: 93.7 ms (started: 2020-12-22 01:11:34 +00:00)\n"
          ],
          "name": "stdout"
        }
      ]
    },
    {
      "cell_type": "markdown",
      "metadata": {
        "id": "ul7LNxYu8xH9"
      },
      "source": [
        "Mengambil hanya kolom yang bertipe numerik saja"
      ]
    },
    {
      "cell_type": "code",
      "metadata": {
        "colab": {
          "base_uri": "https://localhost:8080/"
        },
        "id": "lH4xzAjgeWMP",
        "outputId": "41f2d574-f6b4-474a-e028-872811afea99"
      },
      "source": [
        "numeric = []\n",
        "for col in df.drop(columns=['Year','Number of Doors']).columns:\n",
        "  print(df[col].dtypes)\n",
        "  if df[col].dtypes != 'object':\n",
        "    numeric.append(col)\n",
        "numeric"
      ],
      "execution_count": null,
      "outputs": [
        {
          "output_type": "stream",
          "text": [
            "object\n",
            "object\n",
            "object\n",
            "float64\n",
            "float64\n",
            "object\n",
            "object\n",
            "object\n",
            "object\n",
            "object\n",
            "int64\n",
            "int64\n",
            "int64\n",
            "int64\n"
          ],
          "name": "stdout"
        },
        {
          "output_type": "execute_result",
          "data": {
            "text/plain": [
              "['Engine HP',\n",
              " 'Engine Cylinders',\n",
              " 'highway MPG',\n",
              " 'city mpg',\n",
              " 'Popularity',\n",
              " 'MSRP']"
            ]
          },
          "metadata": {
            "tags": []
          },
          "execution_count": 52
        },
        {
          "output_type": "stream",
          "text": [
            "time: 12.4 ms (started: 2020-12-22 01:32:33 +00:00)\n"
          ],
          "name": "stdout"
        }
      ]
    },
    {
      "cell_type": "markdown",
      "metadata": {
        "id": "s1o1uLKV9p42"
      },
      "source": [
        "Pada target (MSRP) diubah menjadi kategorikal (cheap & expensive), kemudian diubah menjadi numerik diskrit (0: cheap & 1: expensive)"
      ]
    },
    {
      "cell_type": "code",
      "metadata": {
        "colab": {
          "base_uri": "https://localhost:8080/",
          "height": 428
        },
        "id": "Mw2cZDSDegx2",
        "outputId": "ab350d3c-d534-4885-bdf0-f2e740658ba1"
      },
      "source": [
        "df_num = df[numeric]\n",
        "df_num['MSRP'] = pd.qcut(df_num['MSRP'], 2, labels=['cheap', 'expensive'])\n",
        "df_num['MSRP'].replace({'cheap': 0, 'expensive': 1}, inplace=True)\n",
        "df_num.head()"
      ],
      "execution_count": null,
      "outputs": [
        {
          "output_type": "stream",
          "text": [
            "/usr/local/lib/python3.6/dist-packages/ipykernel_launcher.py:2: SettingWithCopyWarning: \n",
            "A value is trying to be set on a copy of a slice from a DataFrame.\n",
            "Try using .loc[row_indexer,col_indexer] = value instead\n",
            "\n",
            "See the caveats in the documentation: https://pandas.pydata.org/pandas-docs/stable/user_guide/indexing.html#returning-a-view-versus-a-copy\n",
            "  \n",
            "/usr/local/lib/python3.6/dist-packages/pandas/core/series.py:4582: SettingWithCopyWarning: \n",
            "A value is trying to be set on a copy of a slice from a DataFrame\n",
            "\n",
            "See the caveats in the documentation: https://pandas.pydata.org/pandas-docs/stable/user_guide/indexing.html#returning-a-view-versus-a-copy\n",
            "  method=method,\n"
          ],
          "name": "stderr"
        },
        {
          "output_type": "execute_result",
          "data": {
            "text/html": [
              "<div>\n",
              "<style scoped>\n",
              "    .dataframe tbody tr th:only-of-type {\n",
              "        vertical-align: middle;\n",
              "    }\n",
              "\n",
              "    .dataframe tbody tr th {\n",
              "        vertical-align: top;\n",
              "    }\n",
              "\n",
              "    .dataframe thead th {\n",
              "        text-align: right;\n",
              "    }\n",
              "</style>\n",
              "<table border=\"1\" class=\"dataframe\">\n",
              "  <thead>\n",
              "    <tr style=\"text-align: right;\">\n",
              "      <th></th>\n",
              "      <th>Engine HP</th>\n",
              "      <th>Engine Cylinders</th>\n",
              "      <th>highway MPG</th>\n",
              "      <th>city mpg</th>\n",
              "      <th>Popularity</th>\n",
              "      <th>MSRP</th>\n",
              "    </tr>\n",
              "  </thead>\n",
              "  <tbody>\n",
              "    <tr>\n",
              "      <th>0</th>\n",
              "      <td>335.0</td>\n",
              "      <td>6.0</td>\n",
              "      <td>26</td>\n",
              "      <td>19</td>\n",
              "      <td>3916</td>\n",
              "      <td>1</td>\n",
              "    </tr>\n",
              "    <tr>\n",
              "      <th>1</th>\n",
              "      <td>300.0</td>\n",
              "      <td>6.0</td>\n",
              "      <td>28</td>\n",
              "      <td>19</td>\n",
              "      <td>3916</td>\n",
              "      <td>1</td>\n",
              "    </tr>\n",
              "    <tr>\n",
              "      <th>2</th>\n",
              "      <td>300.0</td>\n",
              "      <td>6.0</td>\n",
              "      <td>28</td>\n",
              "      <td>20</td>\n",
              "      <td>3916</td>\n",
              "      <td>1</td>\n",
              "    </tr>\n",
              "    <tr>\n",
              "      <th>3</th>\n",
              "      <td>230.0</td>\n",
              "      <td>6.0</td>\n",
              "      <td>28</td>\n",
              "      <td>18</td>\n",
              "      <td>3916</td>\n",
              "      <td>0</td>\n",
              "    </tr>\n",
              "    <tr>\n",
              "      <th>4</th>\n",
              "      <td>230.0</td>\n",
              "      <td>6.0</td>\n",
              "      <td>28</td>\n",
              "      <td>18</td>\n",
              "      <td>3916</td>\n",
              "      <td>1</td>\n",
              "    </tr>\n",
              "  </tbody>\n",
              "</table>\n",
              "</div>"
            ],
            "text/plain": [
              "   Engine HP  Engine Cylinders  highway MPG  city mpg  Popularity  MSRP\n",
              "0      335.0               6.0           26        19        3916     1\n",
              "1      300.0               6.0           28        19        3916     1\n",
              "2      300.0               6.0           28        20        3916     1\n",
              "3      230.0               6.0           28        18        3916     0\n",
              "4      230.0               6.0           28        18        3916     1"
            ]
          },
          "metadata": {
            "tags": []
          },
          "execution_count": 53
        },
        {
          "output_type": "stream",
          "text": [
            "time: 32.2 ms (started: 2020-12-22 01:32:36 +00:00)\n"
          ],
          "name": "stdout"
        }
      ]
    },
    {
      "cell_type": "markdown",
      "metadata": {
        "id": "TuQKebmcBStF"
      },
      "source": [
        "Menghilangkan row yang memiliki missing value"
      ]
    },
    {
      "cell_type": "code",
      "metadata": {
        "colab": {
          "base_uri": "https://localhost:8080/"
        },
        "id": "jSfD2kLMe2oG",
        "outputId": "99d95235-0cb0-40f2-c3f5-6145121225f1"
      },
      "source": [
        "df_num.dropna(inplace=True)"
      ],
      "execution_count": null,
      "outputs": [
        {
          "output_type": "stream",
          "text": [
            "time: 5.76 ms (started: 2020-12-22 01:32:39 +00:00)\n"
          ],
          "name": "stdout"
        },
        {
          "output_type": "stream",
          "text": [
            "/usr/local/lib/python3.6/dist-packages/ipykernel_launcher.py:1: SettingWithCopyWarning: \n",
            "A value is trying to be set on a copy of a slice from a DataFrame\n",
            "\n",
            "See the caveats in the documentation: https://pandas.pydata.org/pandas-docs/stable/user_guide/indexing.html#returning-a-view-versus-a-copy\n",
            "  \"\"\"Entry point for launching an IPython kernel.\n"
          ],
          "name": "stderr"
        }
      ]
    },
    {
      "cell_type": "markdown",
      "metadata": {
        "id": "XdeBPfB-Bsvw"
      },
      "source": [
        "Membagi data menjadi fitur (X) dan target (y)"
      ]
    },
    {
      "cell_type": "code",
      "metadata": {
        "colab": {
          "base_uri": "https://localhost:8080/",
          "height": 436
        },
        "id": "FoFOwJJ4Bq_j",
        "outputId": "0710d460-4f9c-4784-9647-54bea98ec1d2"
      },
      "source": [
        "X, y = df_num.drop(columns=['MSRP']), df_num['MSRP']\r\n",
        "X"
      ],
      "execution_count": null,
      "outputs": [
        {
          "output_type": "execute_result",
          "data": {
            "text/html": [
              "<div>\n",
              "<style scoped>\n",
              "    .dataframe tbody tr th:only-of-type {\n",
              "        vertical-align: middle;\n",
              "    }\n",
              "\n",
              "    .dataframe tbody tr th {\n",
              "        vertical-align: top;\n",
              "    }\n",
              "\n",
              "    .dataframe thead th {\n",
              "        text-align: right;\n",
              "    }\n",
              "</style>\n",
              "<table border=\"1\" class=\"dataframe\">\n",
              "  <thead>\n",
              "    <tr style=\"text-align: right;\">\n",
              "      <th></th>\n",
              "      <th>Engine HP</th>\n",
              "      <th>Engine Cylinders</th>\n",
              "      <th>highway MPG</th>\n",
              "      <th>city mpg</th>\n",
              "      <th>Popularity</th>\n",
              "    </tr>\n",
              "  </thead>\n",
              "  <tbody>\n",
              "    <tr>\n",
              "      <th>0</th>\n",
              "      <td>335.0</td>\n",
              "      <td>6.0</td>\n",
              "      <td>26</td>\n",
              "      <td>19</td>\n",
              "      <td>3916</td>\n",
              "    </tr>\n",
              "    <tr>\n",
              "      <th>1</th>\n",
              "      <td>300.0</td>\n",
              "      <td>6.0</td>\n",
              "      <td>28</td>\n",
              "      <td>19</td>\n",
              "      <td>3916</td>\n",
              "    </tr>\n",
              "    <tr>\n",
              "      <th>2</th>\n",
              "      <td>300.0</td>\n",
              "      <td>6.0</td>\n",
              "      <td>28</td>\n",
              "      <td>20</td>\n",
              "      <td>3916</td>\n",
              "    </tr>\n",
              "    <tr>\n",
              "      <th>3</th>\n",
              "      <td>230.0</td>\n",
              "      <td>6.0</td>\n",
              "      <td>28</td>\n",
              "      <td>18</td>\n",
              "      <td>3916</td>\n",
              "    </tr>\n",
              "    <tr>\n",
              "      <th>4</th>\n",
              "      <td>230.0</td>\n",
              "      <td>6.0</td>\n",
              "      <td>28</td>\n",
              "      <td>18</td>\n",
              "      <td>3916</td>\n",
              "    </tr>\n",
              "    <tr>\n",
              "      <th>...</th>\n",
              "      <td>...</td>\n",
              "      <td>...</td>\n",
              "      <td>...</td>\n",
              "      <td>...</td>\n",
              "      <td>...</td>\n",
              "    </tr>\n",
              "    <tr>\n",
              "      <th>11909</th>\n",
              "      <td>300.0</td>\n",
              "      <td>6.0</td>\n",
              "      <td>23</td>\n",
              "      <td>16</td>\n",
              "      <td>204</td>\n",
              "    </tr>\n",
              "    <tr>\n",
              "      <th>11910</th>\n",
              "      <td>300.0</td>\n",
              "      <td>6.0</td>\n",
              "      <td>23</td>\n",
              "      <td>16</td>\n",
              "      <td>204</td>\n",
              "    </tr>\n",
              "    <tr>\n",
              "      <th>11911</th>\n",
              "      <td>300.0</td>\n",
              "      <td>6.0</td>\n",
              "      <td>23</td>\n",
              "      <td>16</td>\n",
              "      <td>204</td>\n",
              "    </tr>\n",
              "    <tr>\n",
              "      <th>11912</th>\n",
              "      <td>300.0</td>\n",
              "      <td>6.0</td>\n",
              "      <td>23</td>\n",
              "      <td>16</td>\n",
              "      <td>204</td>\n",
              "    </tr>\n",
              "    <tr>\n",
              "      <th>11913</th>\n",
              "      <td>221.0</td>\n",
              "      <td>6.0</td>\n",
              "      <td>26</td>\n",
              "      <td>17</td>\n",
              "      <td>61</td>\n",
              "    </tr>\n",
              "  </tbody>\n",
              "</table>\n",
              "<p>11816 rows × 5 columns</p>\n",
              "</div>"
            ],
            "text/plain": [
              "       Engine HP  Engine Cylinders  highway MPG  city mpg  Popularity\n",
              "0          335.0               6.0           26        19        3916\n",
              "1          300.0               6.0           28        19        3916\n",
              "2          300.0               6.0           28        20        3916\n",
              "3          230.0               6.0           28        18        3916\n",
              "4          230.0               6.0           28        18        3916\n",
              "...          ...               ...          ...       ...         ...\n",
              "11909      300.0               6.0           23        16         204\n",
              "11910      300.0               6.0           23        16         204\n",
              "11911      300.0               6.0           23        16         204\n",
              "11912      300.0               6.0           23        16         204\n",
              "11913      221.0               6.0           26        17          61\n",
              "\n",
              "[11816 rows x 5 columns]"
            ]
          },
          "metadata": {
            "tags": []
          },
          "execution_count": 55
        },
        {
          "output_type": "stream",
          "text": [
            "time: 26.9 ms (started: 2020-12-22 01:32:41 +00:00)\n"
          ],
          "name": "stdout"
        }
      ]
    },
    {
      "cell_type": "markdown",
      "metadata": {
        "id": "2weQqeQQCgSM"
      },
      "source": [
        "Melakukan normalisasi pada setiap fitur"
      ]
    },
    {
      "cell_type": "code",
      "metadata": {
        "colab": {
          "base_uri": "https://localhost:8080/"
        },
        "id": "xO72qqRxfEZt",
        "outputId": "a92ff0cc-f018-4554-f8b8-d0ef3fc97349"
      },
      "source": [
        "scaler = MinMaxScaler()\n",
        "X_scaled = scaler.fit_transform(X)\n",
        "X_scaled"
      ],
      "execution_count": null,
      "outputs": [
        {
          "output_type": "execute_result",
          "data": {
            "text/plain": [
              "array([[0.29598309, 0.375     , 0.04093567, 0.09230769, 0.69213086],\n",
              "       [0.2589852 , 0.375     , 0.04678363, 0.09230769, 0.69213086],\n",
              "       [0.2589852 , 0.375     , 0.04678363, 0.1       , 0.69213086],\n",
              "       ...,\n",
              "       [0.2589852 , 0.375     , 0.03216374, 0.06923077, 0.0357206 ],\n",
              "       [0.2589852 , 0.375     , 0.03216374, 0.06923077, 0.0357206 ],\n",
              "       [0.17547569, 0.375     , 0.04093567, 0.07692308, 0.01043324]])"
            ]
          },
          "metadata": {
            "tags": []
          },
          "execution_count": 56
        },
        {
          "output_type": "stream",
          "text": [
            "time: 10.1 ms (started: 2020-12-22 01:32:43 +00:00)\n"
          ],
          "name": "stdout"
        }
      ]
    },
    {
      "cell_type": "markdown",
      "metadata": {
        "id": "pncn3sl2D6Px"
      },
      "source": [
        "Membagi data menjadi train dan test"
      ]
    },
    {
      "cell_type": "code",
      "metadata": {
        "colab": {
          "base_uri": "https://localhost:8080/"
        },
        "id": "SJZJR8-efP0c",
        "outputId": "09b857bf-4421-43c5-acfe-86e399dbc508"
      },
      "source": [
        "X_train, X_test, y_train, y_test = train_test_split(X_scaled, y, test_size=0.1, random_state=42)\n",
        "print(len(X_train), len(y_train), len(X_test), len(y_test))"
      ],
      "execution_count": null,
      "outputs": [
        {
          "output_type": "stream",
          "text": [
            "10634 10634 1182 1182\n",
            "time: 7.26 ms (started: 2020-12-22 01:32:45 +00:00)\n"
          ],
          "name": "stdout"
        }
      ]
    },
    {
      "cell_type": "markdown",
      "metadata": {
        "id": "Rrfi0t8Pfc7g"
      },
      "source": [
        "Mengubah dataframe menjadi 3 dimensi"
      ]
    },
    {
      "cell_type": "code",
      "metadata": {
        "colab": {
          "base_uri": "https://localhost:8080/"
        },
        "id": "7FGWj62WfeTD",
        "outputId": "55680522-1159-41a4-fc8e-35ff97096f55"
      },
      "source": [
        "X_train_reshaped = X_train.reshape(X_train.shape[0], X_train.shape[1], 1)\n",
        "X_train_reshaped.shape[1:3]"
      ],
      "execution_count": null,
      "outputs": [
        {
          "output_type": "execute_result",
          "data": {
            "text/plain": [
              "(5, 1)"
            ]
          },
          "metadata": {
            "tags": []
          },
          "execution_count": 64
        },
        {
          "output_type": "stream",
          "text": [
            "time: 4.36 ms (started: 2020-12-22 01:39:29 +00:00)\n"
          ],
          "name": "stdout"
        }
      ]
    },
    {
      "cell_type": "code",
      "metadata": {
        "colab": {
          "base_uri": "https://localhost:8080/"
        },
        "id": "bncmyDZQf0uy",
        "outputId": "015ca808-02f4-44b8-aba9-2db4a6094387"
      },
      "source": [
        "X_test_reshaped = X_test.reshape(X_test.shape[0], X_test.shape[1], 1)\n",
        "X_test_reshaped.shape"
      ],
      "execution_count": null,
      "outputs": [
        {
          "output_type": "execute_result",
          "data": {
            "text/plain": [
              "(1182, 5, 1)"
            ]
          },
          "metadata": {
            "tags": []
          },
          "execution_count": 65
        },
        {
          "output_type": "stream",
          "text": [
            "time: 3.52 ms (started: 2020-12-22 01:39:31 +00:00)\n"
          ],
          "name": "stdout"
        }
      ]
    },
    {
      "cell_type": "markdown",
      "metadata": {
        "id": "QLMEKq6hG67L"
      },
      "source": [
        "Menambahkan conv layer 1, conv layer 2, dan output layer pada CNN"
      ]
    },
    {
      "cell_type": "code",
      "metadata": {
        "colab": {
          "base_uri": "https://localhost:8080/"
        },
        "id": "ZN4mM_SIf5eS",
        "outputId": "3680ffd4-98f3-4934-afa1-171bcf3f5ce4"
      },
      "source": [
        "model = Sequential()\n",
        "model.add(Conv1D(32, 4, input_shape=X_train_reshaped.shape[1:3], activation='relu'))\n",
        "model.add(Dropout(0.3))\n",
        "model.add(MaxPooling1D(1))\n",
        "\n",
        "model.add(Conv1D(16, 2, activation='relu'))\n",
        "model.add(Dropout(0.3))\n",
        "model.add(MaxPooling1D(1))\n",
        "\n",
        "model.add(Flatten())\n",
        "model.add(Dense(1, activation='sigmoid'))\n",
        "model.summary()"
      ],
      "execution_count": null,
      "outputs": [
        {
          "output_type": "stream",
          "text": [
            "Model: \"sequential_14\"\n",
            "_________________________________________________________________\n",
            "Layer (type)                 Output Shape              Param #   \n",
            "=================================================================\n",
            "conv1d_28 (Conv1D)           (None, 2, 32)             160       \n",
            "_________________________________________________________________\n",
            "dropout_28 (Dropout)         (None, 2, 32)             0         \n",
            "_________________________________________________________________\n",
            "max_pooling1d_14 (MaxPooling (None, 2, 32)             0         \n",
            "_________________________________________________________________\n",
            "conv1d_29 (Conv1D)           (None, 1, 16)             1040      \n",
            "_________________________________________________________________\n",
            "dropout_29 (Dropout)         (None, 1, 16)             0         \n",
            "_________________________________________________________________\n",
            "max_pooling1d_15 (MaxPooling (None, 1, 16)             0         \n",
            "_________________________________________________________________\n",
            "flatten_2 (Flatten)          (None, 16)                0         \n",
            "_________________________________________________________________\n",
            "dense_9 (Dense)              (None, 1)                 17        \n",
            "=================================================================\n",
            "Total params: 1,217\n",
            "Trainable params: 1,217\n",
            "Non-trainable params: 0\n",
            "_________________________________________________________________\n",
            "time: 81.9 ms (started: 2020-12-22 04:41:59 +00:00)\n"
          ],
          "name": "stdout"
        }
      ]
    },
    {
      "cell_type": "markdown",
      "metadata": {
        "id": "KuuUo5tyKzRU"
      },
      "source": [
        "Menambahkan early stopping untuk menghentikan iterasi ketika setelah beberapa iterasi akurasi tidak bertambah"
      ]
    },
    {
      "cell_type": "code",
      "metadata": {
        "colab": {
          "base_uri": "https://localhost:8080/"
        },
        "id": "nou5N7CVgD1u",
        "outputId": "2e5c0a53-c208-4822-c8a6-1cf51d2d71c7"
      },
      "source": [
        "time_start = time.time()\n",
        "lr = 0.01\n",
        "optimizer = Adam(learning_rate=lr)\n",
        "\n",
        "early_stopping_monitor = EarlyStopping(\n",
        "    monitor='accuracy',\n",
        "    min_delta=0,\n",
        "    patience=100,\n",
        "    verbose=0,\n",
        "    mode='auto',\n",
        "    baseline=None,\n",
        "    restore_best_weights=True\n",
        ")\n",
        "\n",
        "model.compile(loss='binary_crossentropy', optimizer=optimizer, metrics='accuracy')\n",
        "\n",
        "history = model.fit(X_train_reshaped, y_train,\n",
        "          epochs=1000, \n",
        "          verbose=1,\n",
        "          validation_data=(X_test_reshaped, y_test),\n",
        "          callbacks=[early_stopping_monitor])\n",
        "\n",
        "time_end = time.time()\n",
        "\n",
        "print('Time elapsed : ' + str(time_end - time_start))"
      ],
      "execution_count": null,
      "outputs": [
        {
          "output_type": "stream",
          "text": [
            "Epoch 1/1000\n",
            "333/333 [==============================] - 1s 2ms/step - loss: 0.5215 - accuracy: 0.7184 - val_loss: 0.3308 - val_accuracy: 0.8782\n",
            "Epoch 2/1000\n",
            "333/333 [==============================] - 1s 2ms/step - loss: 0.3653 - accuracy: 0.8537 - val_loss: 0.3101 - val_accuracy: 0.8841\n",
            "Epoch 3/1000\n",
            "333/333 [==============================] - 1s 2ms/step - loss: 0.3335 - accuracy: 0.8647 - val_loss: 0.3023 - val_accuracy: 0.8824\n",
            "Epoch 4/1000\n",
            "333/333 [==============================] - 1s 2ms/step - loss: 0.3425 - accuracy: 0.8575 - val_loss: 0.2989 - val_accuracy: 0.8841\n",
            "Epoch 5/1000\n",
            "333/333 [==============================] - 1s 2ms/step - loss: 0.3488 - accuracy: 0.8558 - val_loss: 0.3125 - val_accuracy: 0.8672\n",
            "Epoch 6/1000\n",
            "333/333 [==============================] - 1s 2ms/step - loss: 0.3416 - accuracy: 0.8625 - val_loss: 0.3011 - val_accuracy: 0.8697\n",
            "Epoch 7/1000\n",
            "333/333 [==============================] - 1s 2ms/step - loss: 0.3305 - accuracy: 0.8613 - val_loss: 0.3083 - val_accuracy: 0.8587\n",
            "Epoch 8/1000\n",
            "333/333 [==============================] - 1s 2ms/step - loss: 0.3380 - accuracy: 0.8622 - val_loss: 0.3170 - val_accuracy: 0.8706\n",
            "Epoch 9/1000\n",
            "333/333 [==============================] - 1s 2ms/step - loss: 0.3435 - accuracy: 0.8579 - val_loss: 0.3057 - val_accuracy: 0.8579\n",
            "Epoch 10/1000\n",
            "333/333 [==============================] - 1s 2ms/step - loss: 0.3347 - accuracy: 0.8653 - val_loss: 0.3059 - val_accuracy: 0.8731\n",
            "Epoch 11/1000\n",
            "333/333 [==============================] - 1s 2ms/step - loss: 0.3376 - accuracy: 0.8603 - val_loss: 0.2959 - val_accuracy: 0.8748\n",
            "Epoch 12/1000\n",
            "333/333 [==============================] - 1s 2ms/step - loss: 0.3276 - accuracy: 0.8676 - val_loss: 0.2978 - val_accuracy: 0.8816\n",
            "Epoch 13/1000\n",
            "333/333 [==============================] - 1s 2ms/step - loss: 0.3249 - accuracy: 0.8685 - val_loss: 0.2978 - val_accuracy: 0.8714\n",
            "Epoch 14/1000\n",
            "333/333 [==============================] - 1s 2ms/step - loss: 0.3425 - accuracy: 0.8615 - val_loss: 0.2953 - val_accuracy: 0.8832\n",
            "Epoch 15/1000\n",
            "333/333 [==============================] - 1s 2ms/step - loss: 0.3274 - accuracy: 0.8666 - val_loss: 0.3124 - val_accuracy: 0.8731\n",
            "Epoch 16/1000\n",
            "333/333 [==============================] - 1s 2ms/step - loss: 0.3230 - accuracy: 0.8639 - val_loss: 0.3017 - val_accuracy: 0.8562\n",
            "Epoch 17/1000\n",
            "333/333 [==============================] - 1s 2ms/step - loss: 0.3256 - accuracy: 0.8688 - val_loss: 0.2976 - val_accuracy: 0.8849\n",
            "Epoch 18/1000\n",
            "333/333 [==============================] - 1s 2ms/step - loss: 0.3299 - accuracy: 0.8637 - val_loss: 0.2957 - val_accuracy: 0.8756\n",
            "Epoch 19/1000\n",
            "333/333 [==============================] - 1s 2ms/step - loss: 0.3244 - accuracy: 0.8700 - val_loss: 0.3007 - val_accuracy: 0.8824\n",
            "Epoch 20/1000\n",
            "333/333 [==============================] - 1s 2ms/step - loss: 0.3278 - accuracy: 0.8655 - val_loss: 0.3037 - val_accuracy: 0.8689\n",
            "Epoch 21/1000\n",
            "333/333 [==============================] - 1s 2ms/step - loss: 0.3108 - accuracy: 0.8705 - val_loss: 0.3000 - val_accuracy: 0.8655\n",
            "Epoch 22/1000\n",
            "333/333 [==============================] - 1s 2ms/step - loss: 0.3293 - accuracy: 0.8622 - val_loss: 0.3267 - val_accuracy: 0.8706\n",
            "Epoch 23/1000\n",
            "333/333 [==============================] - 1s 2ms/step - loss: 0.3240 - accuracy: 0.8669 - val_loss: 0.3003 - val_accuracy: 0.8849\n",
            "Epoch 24/1000\n",
            "333/333 [==============================] - 1s 2ms/step - loss: 0.3128 - accuracy: 0.8647 - val_loss: 0.2945 - val_accuracy: 0.8841\n",
            "Epoch 25/1000\n",
            "333/333 [==============================] - 1s 2ms/step - loss: 0.3199 - accuracy: 0.8660 - val_loss: 0.3018 - val_accuracy: 0.8816\n",
            "Epoch 26/1000\n",
            "333/333 [==============================] - 1s 2ms/step - loss: 0.3309 - accuracy: 0.8613 - val_loss: 0.3051 - val_accuracy: 0.8689\n",
            "Epoch 27/1000\n",
            "333/333 [==============================] - 1s 2ms/step - loss: 0.3282 - accuracy: 0.8612 - val_loss: 0.2952 - val_accuracy: 0.8773\n",
            "Epoch 28/1000\n",
            "333/333 [==============================] - 1s 2ms/step - loss: 0.3305 - accuracy: 0.8641 - val_loss: 0.2958 - val_accuracy: 0.8723\n",
            "Epoch 29/1000\n",
            "333/333 [==============================] - 1s 2ms/step - loss: 0.3269 - accuracy: 0.8677 - val_loss: 0.2949 - val_accuracy: 0.8816\n",
            "Epoch 30/1000\n",
            "333/333 [==============================] - 1s 2ms/step - loss: 0.3205 - accuracy: 0.8678 - val_loss: 0.2952 - val_accuracy: 0.8824\n",
            "Epoch 31/1000\n",
            "333/333 [==============================] - 1s 2ms/step - loss: 0.3208 - accuracy: 0.8719 - val_loss: 0.2940 - val_accuracy: 0.8849\n",
            "Epoch 32/1000\n",
            "333/333 [==============================] - 1s 2ms/step - loss: 0.3144 - accuracy: 0.8756 - val_loss: 0.2970 - val_accuracy: 0.8816\n",
            "Epoch 33/1000\n",
            "333/333 [==============================] - 1s 2ms/step - loss: 0.3279 - accuracy: 0.8613 - val_loss: 0.2974 - val_accuracy: 0.8672\n",
            "Epoch 34/1000\n",
            "333/333 [==============================] - 1s 2ms/step - loss: 0.3247 - accuracy: 0.8630 - val_loss: 0.3029 - val_accuracy: 0.8672\n",
            "Epoch 35/1000\n",
            "333/333 [==============================] - 1s 2ms/step - loss: 0.3158 - accuracy: 0.8701 - val_loss: 0.2887 - val_accuracy: 0.8858\n",
            "Epoch 36/1000\n",
            "333/333 [==============================] - 1s 2ms/step - loss: 0.3228 - accuracy: 0.8639 - val_loss: 0.2985 - val_accuracy: 0.8807\n",
            "Epoch 37/1000\n",
            "333/333 [==============================] - 1s 2ms/step - loss: 0.3174 - accuracy: 0.8664 - val_loss: 0.3014 - val_accuracy: 0.8663\n",
            "Epoch 38/1000\n",
            "333/333 [==============================] - 1s 2ms/step - loss: 0.3223 - accuracy: 0.8621 - val_loss: 0.2911 - val_accuracy: 0.8841\n",
            "Epoch 39/1000\n",
            "333/333 [==============================] - 1s 2ms/step - loss: 0.3257 - accuracy: 0.8602 - val_loss: 0.2913 - val_accuracy: 0.8832\n",
            "Epoch 40/1000\n",
            "333/333 [==============================] - 1s 2ms/step - loss: 0.3244 - accuracy: 0.8691 - val_loss: 0.3028 - val_accuracy: 0.8663\n",
            "Epoch 41/1000\n",
            "333/333 [==============================] - 1s 2ms/step - loss: 0.3272 - accuracy: 0.8590 - val_loss: 0.2949 - val_accuracy: 0.8832\n",
            "Epoch 42/1000\n",
            "333/333 [==============================] - 1s 2ms/step - loss: 0.3202 - accuracy: 0.8666 - val_loss: 0.3173 - val_accuracy: 0.8672\n",
            "Epoch 43/1000\n",
            "333/333 [==============================] - 1s 2ms/step - loss: 0.3200 - accuracy: 0.8677 - val_loss: 0.2951 - val_accuracy: 0.8832\n",
            "Epoch 44/1000\n",
            "333/333 [==============================] - 1s 2ms/step - loss: 0.3114 - accuracy: 0.8732 - val_loss: 0.2887 - val_accuracy: 0.8866\n",
            "Epoch 45/1000\n",
            "333/333 [==============================] - 1s 2ms/step - loss: 0.3138 - accuracy: 0.8718 - val_loss: 0.2925 - val_accuracy: 0.8832\n",
            "Epoch 46/1000\n",
            "333/333 [==============================] - 1s 2ms/step - loss: 0.3196 - accuracy: 0.8714 - val_loss: 0.3023 - val_accuracy: 0.8748\n",
            "Epoch 47/1000\n",
            "333/333 [==============================] - 1s 2ms/step - loss: 0.3213 - accuracy: 0.8685 - val_loss: 0.2994 - val_accuracy: 0.8596\n",
            "Epoch 48/1000\n",
            "333/333 [==============================] - 1s 2ms/step - loss: 0.3251 - accuracy: 0.8663 - val_loss: 0.2911 - val_accuracy: 0.8892\n",
            "Epoch 49/1000\n",
            "333/333 [==============================] - 1s 2ms/step - loss: 0.3277 - accuracy: 0.8657 - val_loss: 0.2937 - val_accuracy: 0.8858\n",
            "Epoch 50/1000\n",
            "333/333 [==============================] - 1s 2ms/step - loss: 0.3155 - accuracy: 0.8700 - val_loss: 0.2937 - val_accuracy: 0.8587\n",
            "Epoch 51/1000\n",
            "333/333 [==============================] - 1s 2ms/step - loss: 0.3306 - accuracy: 0.8609 - val_loss: 0.2973 - val_accuracy: 0.8832\n",
            "Epoch 52/1000\n",
            "333/333 [==============================] - 1s 2ms/step - loss: 0.3217 - accuracy: 0.8626 - val_loss: 0.2922 - val_accuracy: 0.8824\n",
            "Epoch 53/1000\n",
            "333/333 [==============================] - 1s 2ms/step - loss: 0.3263 - accuracy: 0.8635 - val_loss: 0.2952 - val_accuracy: 0.8841\n",
            "Epoch 54/1000\n",
            "333/333 [==============================] - 1s 2ms/step - loss: 0.3170 - accuracy: 0.8689 - val_loss: 0.3036 - val_accuracy: 0.8849\n",
            "Epoch 55/1000\n",
            "333/333 [==============================] - 1s 2ms/step - loss: 0.3321 - accuracy: 0.8582 - val_loss: 0.3059 - val_accuracy: 0.8655\n",
            "Epoch 56/1000\n",
            "333/333 [==============================] - 1s 2ms/step - loss: 0.3170 - accuracy: 0.8713 - val_loss: 0.3096 - val_accuracy: 0.8824\n",
            "Epoch 57/1000\n",
            "333/333 [==============================] - 1s 2ms/step - loss: 0.3243 - accuracy: 0.8695 - val_loss: 0.2941 - val_accuracy: 0.8739\n",
            "Epoch 58/1000\n",
            "333/333 [==============================] - 1s 2ms/step - loss: 0.3229 - accuracy: 0.8668 - val_loss: 0.2922 - val_accuracy: 0.8841\n",
            "Epoch 59/1000\n",
            "333/333 [==============================] - 1s 2ms/step - loss: 0.3169 - accuracy: 0.8671 - val_loss: 0.3118 - val_accuracy: 0.8604\n",
            "Epoch 60/1000\n",
            "333/333 [==============================] - 1s 2ms/step - loss: 0.3180 - accuracy: 0.8681 - val_loss: 0.2989 - val_accuracy: 0.8613\n",
            "Epoch 61/1000\n",
            "333/333 [==============================] - 1s 2ms/step - loss: 0.3102 - accuracy: 0.8679 - val_loss: 0.3011 - val_accuracy: 0.8866\n",
            "Epoch 62/1000\n",
            "333/333 [==============================] - 1s 2ms/step - loss: 0.3198 - accuracy: 0.8646 - val_loss: 0.2891 - val_accuracy: 0.8832\n",
            "Epoch 63/1000\n",
            "333/333 [==============================] - 1s 2ms/step - loss: 0.3113 - accuracy: 0.8689 - val_loss: 0.2919 - val_accuracy: 0.8824\n",
            "Epoch 64/1000\n",
            "333/333 [==============================] - 1s 2ms/step - loss: 0.3167 - accuracy: 0.8691 - val_loss: 0.3122 - val_accuracy: 0.8765\n",
            "Epoch 65/1000\n",
            "333/333 [==============================] - 1s 2ms/step - loss: 0.3166 - accuracy: 0.8687 - val_loss: 0.3058 - val_accuracy: 0.8596\n",
            "Epoch 66/1000\n",
            "333/333 [==============================] - 1s 2ms/step - loss: 0.3234 - accuracy: 0.8664 - val_loss: 0.2912 - val_accuracy: 0.8841\n",
            "Epoch 67/1000\n",
            "333/333 [==============================] - 1s 2ms/step - loss: 0.3211 - accuracy: 0.8705 - val_loss: 0.2921 - val_accuracy: 0.8841\n",
            "Epoch 68/1000\n",
            "333/333 [==============================] - 1s 2ms/step - loss: 0.3165 - accuracy: 0.8689 - val_loss: 0.3005 - val_accuracy: 0.8680\n",
            "Epoch 69/1000\n",
            "333/333 [==============================] - 1s 2ms/step - loss: 0.3234 - accuracy: 0.8643 - val_loss: 0.2997 - val_accuracy: 0.8832\n",
            "Epoch 70/1000\n",
            "333/333 [==============================] - 1s 2ms/step - loss: 0.3241 - accuracy: 0.8632 - val_loss: 0.2823 - val_accuracy: 0.8849\n",
            "Epoch 71/1000\n",
            "333/333 [==============================] - 1s 2ms/step - loss: 0.3156 - accuracy: 0.8688 - val_loss: 0.2845 - val_accuracy: 0.8832\n",
            "Epoch 72/1000\n",
            "333/333 [==============================] - 1s 2ms/step - loss: 0.3075 - accuracy: 0.8671 - val_loss: 0.2930 - val_accuracy: 0.8714\n",
            "Epoch 73/1000\n",
            "333/333 [==============================] - 1s 2ms/step - loss: 0.3164 - accuracy: 0.8717 - val_loss: 0.2895 - val_accuracy: 0.8773\n",
            "Epoch 74/1000\n",
            "333/333 [==============================] - 1s 2ms/step - loss: 0.3123 - accuracy: 0.8732 - val_loss: 0.2908 - val_accuracy: 0.8697\n",
            "Epoch 75/1000\n",
            "333/333 [==============================] - 1s 2ms/step - loss: 0.3139 - accuracy: 0.8662 - val_loss: 0.2912 - val_accuracy: 0.8799\n",
            "Epoch 76/1000\n",
            "333/333 [==============================] - 1s 2ms/step - loss: 0.3256 - accuracy: 0.8649 - val_loss: 0.2856 - val_accuracy: 0.8816\n",
            "Epoch 77/1000\n",
            "333/333 [==============================] - 1s 2ms/step - loss: 0.3142 - accuracy: 0.8666 - val_loss: 0.2864 - val_accuracy: 0.8866\n",
            "Epoch 78/1000\n",
            "333/333 [==============================] - 1s 2ms/step - loss: 0.3193 - accuracy: 0.8675 - val_loss: 0.2853 - val_accuracy: 0.8807\n",
            "Epoch 79/1000\n",
            "333/333 [==============================] - 1s 2ms/step - loss: 0.3182 - accuracy: 0.8662 - val_loss: 0.2883 - val_accuracy: 0.8866\n",
            "Epoch 80/1000\n",
            "333/333 [==============================] - 1s 2ms/step - loss: 0.3172 - accuracy: 0.8679 - val_loss: 0.3017 - val_accuracy: 0.8816\n",
            "Epoch 81/1000\n",
            "333/333 [==============================] - 1s 2ms/step - loss: 0.3130 - accuracy: 0.8726 - val_loss: 0.2899 - val_accuracy: 0.8680\n",
            "Epoch 82/1000\n",
            "333/333 [==============================] - 1s 2ms/step - loss: 0.3262 - accuracy: 0.8667 - val_loss: 0.2923 - val_accuracy: 0.8799\n",
            "Epoch 83/1000\n",
            "333/333 [==============================] - 1s 2ms/step - loss: 0.3181 - accuracy: 0.8662 - val_loss: 0.2925 - val_accuracy: 0.8849\n",
            "Epoch 84/1000\n",
            "333/333 [==============================] - 1s 2ms/step - loss: 0.3110 - accuracy: 0.8710 - val_loss: 0.3192 - val_accuracy: 0.8663\n",
            "Epoch 85/1000\n",
            "333/333 [==============================] - 1s 2ms/step - loss: 0.3206 - accuracy: 0.8671 - val_loss: 0.2958 - val_accuracy: 0.8680\n",
            "Epoch 86/1000\n",
            "333/333 [==============================] - 1s 2ms/step - loss: 0.3151 - accuracy: 0.8669 - val_loss: 0.2823 - val_accuracy: 0.8849\n",
            "Epoch 87/1000\n",
            "333/333 [==============================] - 1s 2ms/step - loss: 0.3207 - accuracy: 0.8667 - val_loss: 0.2874 - val_accuracy: 0.8782\n",
            "Epoch 88/1000\n",
            "333/333 [==============================] - 1s 2ms/step - loss: 0.3136 - accuracy: 0.8657 - val_loss: 0.2946 - val_accuracy: 0.8773\n",
            "Epoch 89/1000\n",
            "333/333 [==============================] - 1s 2ms/step - loss: 0.3138 - accuracy: 0.8651 - val_loss: 0.2907 - val_accuracy: 0.8832\n",
            "Epoch 90/1000\n",
            "333/333 [==============================] - 1s 2ms/step - loss: 0.3147 - accuracy: 0.8660 - val_loss: 0.2853 - val_accuracy: 0.8849\n",
            "Epoch 91/1000\n",
            "333/333 [==============================] - 1s 2ms/step - loss: 0.3205 - accuracy: 0.8644 - val_loss: 0.2846 - val_accuracy: 0.8706\n",
            "Epoch 92/1000\n",
            "333/333 [==============================] - 1s 2ms/step - loss: 0.3148 - accuracy: 0.8714 - val_loss: 0.2972 - val_accuracy: 0.8663\n",
            "Epoch 93/1000\n",
            "333/333 [==============================] - 1s 2ms/step - loss: 0.3137 - accuracy: 0.8672 - val_loss: 0.2934 - val_accuracy: 0.8799\n",
            "Epoch 94/1000\n",
            "333/333 [==============================] - 1s 2ms/step - loss: 0.3261 - accuracy: 0.8585 - val_loss: 0.2851 - val_accuracy: 0.8841\n",
            "Epoch 95/1000\n",
            "333/333 [==============================] - 1s 2ms/step - loss: 0.3101 - accuracy: 0.8703 - val_loss: 0.2841 - val_accuracy: 0.8739\n",
            "Epoch 96/1000\n",
            "333/333 [==============================] - 1s 2ms/step - loss: 0.3140 - accuracy: 0.8653 - val_loss: 0.2883 - val_accuracy: 0.8756\n",
            "Epoch 97/1000\n",
            "333/333 [==============================] - 1s 2ms/step - loss: 0.3120 - accuracy: 0.8700 - val_loss: 0.2811 - val_accuracy: 0.8824\n",
            "Epoch 98/1000\n",
            "333/333 [==============================] - 1s 2ms/step - loss: 0.3142 - accuracy: 0.8679 - val_loss: 0.2948 - val_accuracy: 0.8756\n",
            "Epoch 99/1000\n",
            "333/333 [==============================] - 1s 2ms/step - loss: 0.3094 - accuracy: 0.8720 - val_loss: 0.2918 - val_accuracy: 0.8697\n",
            "Epoch 100/1000\n",
            "333/333 [==============================] - 1s 2ms/step - loss: 0.3202 - accuracy: 0.8671 - val_loss: 0.2825 - val_accuracy: 0.8832\n",
            "Epoch 101/1000\n",
            "333/333 [==============================] - 1s 2ms/step - loss: 0.3083 - accuracy: 0.8730 - val_loss: 0.2980 - val_accuracy: 0.8816\n",
            "Epoch 102/1000\n",
            "333/333 [==============================] - 1s 2ms/step - loss: 0.3065 - accuracy: 0.8747 - val_loss: 0.2950 - val_accuracy: 0.8849\n",
            "Epoch 103/1000\n",
            "333/333 [==============================] - 1s 2ms/step - loss: 0.3079 - accuracy: 0.8695 - val_loss: 0.2906 - val_accuracy: 0.8646\n",
            "Epoch 104/1000\n",
            "333/333 [==============================] - 1s 2ms/step - loss: 0.3114 - accuracy: 0.8730 - val_loss: 0.2845 - val_accuracy: 0.8739\n",
            "Epoch 105/1000\n",
            "333/333 [==============================] - 1s 2ms/step - loss: 0.3129 - accuracy: 0.8665 - val_loss: 0.2885 - val_accuracy: 0.8663\n",
            "Epoch 106/1000\n",
            "333/333 [==============================] - 1s 2ms/step - loss: 0.3053 - accuracy: 0.8710 - val_loss: 0.2840 - val_accuracy: 0.8824\n",
            "Epoch 107/1000\n",
            "333/333 [==============================] - 1s 2ms/step - loss: 0.3099 - accuracy: 0.8663 - val_loss: 0.2938 - val_accuracy: 0.8756\n",
            "Epoch 108/1000\n",
            "333/333 [==============================] - 1s 2ms/step - loss: 0.3192 - accuracy: 0.8703 - val_loss: 0.2810 - val_accuracy: 0.8875\n",
            "Epoch 109/1000\n",
            "333/333 [==============================] - 1s 2ms/step - loss: 0.3046 - accuracy: 0.8682 - val_loss: 0.2792 - val_accuracy: 0.8756\n",
            "Epoch 110/1000\n",
            "333/333 [==============================] - 1s 2ms/step - loss: 0.3071 - accuracy: 0.8742 - val_loss: 0.2846 - val_accuracy: 0.8849\n",
            "Epoch 111/1000\n",
            "333/333 [==============================] - 1s 2ms/step - loss: 0.3119 - accuracy: 0.8675 - val_loss: 0.2873 - val_accuracy: 0.8875\n",
            "Epoch 112/1000\n",
            "333/333 [==============================] - 1s 2ms/step - loss: 0.3166 - accuracy: 0.8650 - val_loss: 0.2975 - val_accuracy: 0.8849\n",
            "Epoch 113/1000\n",
            "333/333 [==============================] - 1s 2ms/step - loss: 0.3191 - accuracy: 0.8702 - val_loss: 0.2915 - val_accuracy: 0.8646\n",
            "Epoch 114/1000\n",
            "333/333 [==============================] - 1s 2ms/step - loss: 0.3161 - accuracy: 0.8685 - val_loss: 0.2894 - val_accuracy: 0.8714\n",
            "Epoch 115/1000\n",
            "333/333 [==============================] - 1s 2ms/step - loss: 0.3163 - accuracy: 0.8707 - val_loss: 0.2842 - val_accuracy: 0.8824\n",
            "Epoch 116/1000\n",
            "333/333 [==============================] - 1s 2ms/step - loss: 0.3122 - accuracy: 0.8692 - val_loss: 0.2961 - val_accuracy: 0.8706\n",
            "Epoch 117/1000\n",
            "333/333 [==============================] - 1s 2ms/step - loss: 0.3108 - accuracy: 0.8710 - val_loss: 0.2934 - val_accuracy: 0.8723\n",
            "Epoch 118/1000\n",
            "333/333 [==============================] - 1s 2ms/step - loss: 0.3136 - accuracy: 0.8718 - val_loss: 0.2833 - val_accuracy: 0.8714\n",
            "Epoch 119/1000\n",
            "333/333 [==============================] - 1s 2ms/step - loss: 0.3157 - accuracy: 0.8716 - val_loss: 0.2797 - val_accuracy: 0.8841\n",
            "Epoch 120/1000\n",
            "333/333 [==============================] - 1s 2ms/step - loss: 0.3190 - accuracy: 0.8630 - val_loss: 0.2805 - val_accuracy: 0.8866\n",
            "Epoch 121/1000\n",
            "333/333 [==============================] - 1s 2ms/step - loss: 0.3123 - accuracy: 0.8652 - val_loss: 0.2861 - val_accuracy: 0.8663\n",
            "Epoch 122/1000\n",
            "333/333 [==============================] - 1s 2ms/step - loss: 0.2990 - accuracy: 0.8775 - val_loss: 0.2874 - val_accuracy: 0.8773\n",
            "Epoch 123/1000\n",
            "333/333 [==============================] - 1s 2ms/step - loss: 0.3143 - accuracy: 0.8706 - val_loss: 0.3046 - val_accuracy: 0.8621\n",
            "Epoch 124/1000\n",
            "333/333 [==============================] - 1s 2ms/step - loss: 0.3032 - accuracy: 0.8756 - val_loss: 0.2796 - val_accuracy: 0.8866\n",
            "Epoch 125/1000\n",
            "333/333 [==============================] - 1s 2ms/step - loss: 0.3148 - accuracy: 0.8702 - val_loss: 0.2781 - val_accuracy: 0.8875\n",
            "Epoch 126/1000\n",
            "333/333 [==============================] - 1s 2ms/step - loss: 0.3132 - accuracy: 0.8692 - val_loss: 0.2807 - val_accuracy: 0.8824\n",
            "Epoch 127/1000\n",
            "333/333 [==============================] - 1s 2ms/step - loss: 0.3059 - accuracy: 0.8754 - val_loss: 0.2913 - val_accuracy: 0.8790\n",
            "Epoch 128/1000\n",
            "333/333 [==============================] - 1s 2ms/step - loss: 0.3175 - accuracy: 0.8666 - val_loss: 0.2811 - val_accuracy: 0.8858\n",
            "Epoch 129/1000\n",
            "333/333 [==============================] - 1s 2ms/step - loss: 0.3087 - accuracy: 0.8781 - val_loss: 0.2909 - val_accuracy: 0.8697\n",
            "Epoch 130/1000\n",
            "333/333 [==============================] - 1s 2ms/step - loss: 0.3090 - accuracy: 0.8717 - val_loss: 0.2882 - val_accuracy: 0.8841\n",
            "Epoch 131/1000\n",
            "333/333 [==============================] - 1s 2ms/step - loss: 0.3107 - accuracy: 0.8760 - val_loss: 0.2996 - val_accuracy: 0.8638\n",
            "Epoch 132/1000\n",
            "333/333 [==============================] - 1s 2ms/step - loss: 0.3089 - accuracy: 0.8773 - val_loss: 0.2926 - val_accuracy: 0.8849\n",
            "Epoch 133/1000\n",
            "333/333 [==============================] - 1s 2ms/step - loss: 0.3102 - accuracy: 0.8740 - val_loss: 0.2938 - val_accuracy: 0.8790\n",
            "Epoch 134/1000\n",
            "333/333 [==============================] - 1s 2ms/step - loss: 0.3100 - accuracy: 0.8676 - val_loss: 0.2826 - val_accuracy: 0.8723\n",
            "Epoch 135/1000\n",
            "333/333 [==============================] - 1s 2ms/step - loss: 0.3112 - accuracy: 0.8730 - val_loss: 0.2849 - val_accuracy: 0.8739\n",
            "Epoch 136/1000\n",
            "333/333 [==============================] - 1s 2ms/step - loss: 0.2933 - accuracy: 0.8831 - val_loss: 0.2944 - val_accuracy: 0.8756\n",
            "Epoch 137/1000\n",
            "333/333 [==============================] - 1s 2ms/step - loss: 0.3053 - accuracy: 0.8716 - val_loss: 0.2872 - val_accuracy: 0.8875\n",
            "Epoch 138/1000\n",
            "333/333 [==============================] - 1s 2ms/step - loss: 0.3136 - accuracy: 0.8684 - val_loss: 0.2926 - val_accuracy: 0.8756\n",
            "Epoch 139/1000\n",
            "333/333 [==============================] - 1s 2ms/step - loss: 0.3118 - accuracy: 0.8674 - val_loss: 0.2975 - val_accuracy: 0.8706\n",
            "Epoch 140/1000\n",
            "333/333 [==============================] - 1s 2ms/step - loss: 0.3116 - accuracy: 0.8692 - val_loss: 0.2893 - val_accuracy: 0.8663\n",
            "Epoch 141/1000\n",
            "333/333 [==============================] - 1s 2ms/step - loss: 0.3105 - accuracy: 0.8708 - val_loss: 0.2923 - val_accuracy: 0.8782\n",
            "Epoch 142/1000\n",
            "333/333 [==============================] - 1s 2ms/step - loss: 0.3095 - accuracy: 0.8698 - val_loss: 0.2849 - val_accuracy: 0.8816\n",
            "Epoch 143/1000\n",
            "333/333 [==============================] - 1s 2ms/step - loss: 0.3122 - accuracy: 0.8679 - val_loss: 0.2837 - val_accuracy: 0.8824\n",
            "Epoch 144/1000\n",
            "333/333 [==============================] - 1s 2ms/step - loss: 0.3171 - accuracy: 0.8683 - val_loss: 0.2847 - val_accuracy: 0.8883\n",
            "Epoch 145/1000\n",
            "333/333 [==============================] - 1s 2ms/step - loss: 0.3072 - accuracy: 0.8709 - val_loss: 0.2830 - val_accuracy: 0.8756\n",
            "Epoch 146/1000\n",
            "333/333 [==============================] - 1s 2ms/step - loss: 0.3122 - accuracy: 0.8720 - val_loss: 0.2838 - val_accuracy: 0.8748\n",
            "Epoch 147/1000\n",
            "333/333 [==============================] - 1s 2ms/step - loss: 0.3046 - accuracy: 0.8771 - val_loss: 0.2900 - val_accuracy: 0.8799\n",
            "Epoch 148/1000\n",
            "333/333 [==============================] - 1s 2ms/step - loss: 0.3095 - accuracy: 0.8747 - val_loss: 0.2988 - val_accuracy: 0.8689\n",
            "Epoch 149/1000\n",
            "333/333 [==============================] - 1s 2ms/step - loss: 0.3082 - accuracy: 0.8718 - val_loss: 0.2909 - val_accuracy: 0.8832\n",
            "Epoch 150/1000\n",
            "333/333 [==============================] - 1s 2ms/step - loss: 0.3087 - accuracy: 0.8712 - val_loss: 0.2858 - val_accuracy: 0.8739\n",
            "Epoch 151/1000\n",
            "333/333 [==============================] - 1s 2ms/step - loss: 0.3034 - accuracy: 0.8741 - val_loss: 0.2909 - val_accuracy: 0.8697\n",
            "Epoch 152/1000\n",
            "333/333 [==============================] - 1s 2ms/step - loss: 0.3084 - accuracy: 0.8760 - val_loss: 0.2813 - val_accuracy: 0.8773\n",
            "Epoch 153/1000\n",
            "333/333 [==============================] - 1s 2ms/step - loss: 0.3103 - accuracy: 0.8738 - val_loss: 0.3030 - val_accuracy: 0.8663\n",
            "Epoch 154/1000\n",
            "333/333 [==============================] - 1s 2ms/step - loss: 0.3136 - accuracy: 0.8665 - val_loss: 0.2854 - val_accuracy: 0.8841\n",
            "Epoch 155/1000\n",
            "333/333 [==============================] - 1s 2ms/step - loss: 0.3077 - accuracy: 0.8776 - val_loss: 0.2849 - val_accuracy: 0.8824\n",
            "Epoch 156/1000\n",
            "333/333 [==============================] - 1s 2ms/step - loss: 0.3192 - accuracy: 0.8698 - val_loss: 0.2814 - val_accuracy: 0.8858\n",
            "Epoch 157/1000\n",
            "333/333 [==============================] - 1s 2ms/step - loss: 0.3042 - accuracy: 0.8736 - val_loss: 0.2776 - val_accuracy: 0.8748\n",
            "Epoch 158/1000\n",
            "333/333 [==============================] - 1s 2ms/step - loss: 0.3106 - accuracy: 0.8705 - val_loss: 0.2836 - val_accuracy: 0.8799\n",
            "Epoch 159/1000\n",
            "333/333 [==============================] - 1s 2ms/step - loss: 0.3043 - accuracy: 0.8735 - val_loss: 0.2843 - val_accuracy: 0.8832\n",
            "Epoch 160/1000\n",
            "333/333 [==============================] - 1s 2ms/step - loss: 0.3110 - accuracy: 0.8706 - val_loss: 0.2929 - val_accuracy: 0.8748\n",
            "Epoch 161/1000\n",
            "333/333 [==============================] - 1s 2ms/step - loss: 0.3087 - accuracy: 0.8740 - val_loss: 0.2925 - val_accuracy: 0.8756\n",
            "Epoch 162/1000\n",
            "333/333 [==============================] - 1s 2ms/step - loss: 0.3134 - accuracy: 0.8711 - val_loss: 0.2927 - val_accuracy: 0.8799\n",
            "Epoch 163/1000\n",
            "333/333 [==============================] - 1s 2ms/step - loss: 0.3132 - accuracy: 0.8684 - val_loss: 0.2942 - val_accuracy: 0.8773\n",
            "Epoch 164/1000\n",
            "333/333 [==============================] - 1s 2ms/step - loss: 0.3135 - accuracy: 0.8701 - val_loss: 0.2780 - val_accuracy: 0.8849\n",
            "Epoch 165/1000\n",
            "333/333 [==============================] - 1s 2ms/step - loss: 0.2999 - accuracy: 0.8745 - val_loss: 0.2959 - val_accuracy: 0.8756\n",
            "Epoch 166/1000\n",
            "333/333 [==============================] - 1s 2ms/step - loss: 0.3049 - accuracy: 0.8734 - val_loss: 0.2867 - val_accuracy: 0.8807\n",
            "Epoch 167/1000\n",
            "333/333 [==============================] - 1s 2ms/step - loss: 0.3092 - accuracy: 0.8640 - val_loss: 0.2880 - val_accuracy: 0.8824\n",
            "Epoch 168/1000\n",
            "333/333 [==============================] - 1s 2ms/step - loss: 0.3059 - accuracy: 0.8735 - val_loss: 0.2907 - val_accuracy: 0.8748\n",
            "Epoch 169/1000\n",
            "333/333 [==============================] - 1s 2ms/step - loss: 0.3089 - accuracy: 0.8695 - val_loss: 0.2879 - val_accuracy: 0.8706\n",
            "Epoch 170/1000\n",
            "333/333 [==============================] - 1s 2ms/step - loss: 0.2981 - accuracy: 0.8817 - val_loss: 0.2872 - val_accuracy: 0.8875\n",
            "Epoch 171/1000\n",
            "333/333 [==============================] - 1s 2ms/step - loss: 0.3068 - accuracy: 0.8702 - val_loss: 0.2888 - val_accuracy: 0.8858\n",
            "Epoch 172/1000\n",
            "333/333 [==============================] - 1s 2ms/step - loss: 0.3047 - accuracy: 0.8744 - val_loss: 0.2863 - val_accuracy: 0.8824\n",
            "Epoch 173/1000\n",
            "333/333 [==============================] - 1s 2ms/step - loss: 0.3123 - accuracy: 0.8671 - val_loss: 0.2985 - val_accuracy: 0.8697\n",
            "Epoch 174/1000\n",
            "333/333 [==============================] - 1s 2ms/step - loss: 0.3106 - accuracy: 0.8707 - val_loss: 0.2907 - val_accuracy: 0.8655\n",
            "Epoch 175/1000\n",
            "333/333 [==============================] - 1s 2ms/step - loss: 0.3129 - accuracy: 0.8744 - val_loss: 0.2887 - val_accuracy: 0.8841\n",
            "Epoch 176/1000\n",
            "333/333 [==============================] - 1s 2ms/step - loss: 0.3224 - accuracy: 0.8684 - val_loss: 0.2807 - val_accuracy: 0.8841\n",
            "Epoch 177/1000\n",
            "333/333 [==============================] - 1s 2ms/step - loss: 0.3079 - accuracy: 0.8758 - val_loss: 0.2866 - val_accuracy: 0.8748\n",
            "Epoch 178/1000\n",
            "333/333 [==============================] - 1s 2ms/step - loss: 0.3087 - accuracy: 0.8727 - val_loss: 0.2788 - val_accuracy: 0.8756\n",
            "Epoch 179/1000\n",
            "333/333 [==============================] - 1s 2ms/step - loss: 0.3106 - accuracy: 0.8689 - val_loss: 0.2870 - val_accuracy: 0.8748\n",
            "Epoch 180/1000\n",
            "333/333 [==============================] - 1s 2ms/step - loss: 0.3060 - accuracy: 0.8786 - val_loss: 0.2917 - val_accuracy: 0.8748\n",
            "Epoch 181/1000\n",
            "333/333 [==============================] - 1s 2ms/step - loss: 0.3125 - accuracy: 0.8708 - val_loss: 0.2820 - val_accuracy: 0.8858\n",
            "Epoch 182/1000\n",
            "333/333 [==============================] - 1s 2ms/step - loss: 0.2955 - accuracy: 0.8750 - val_loss: 0.2903 - val_accuracy: 0.8824\n",
            "Epoch 183/1000\n",
            "333/333 [==============================] - 1s 2ms/step - loss: 0.3062 - accuracy: 0.8745 - val_loss: 0.2785 - val_accuracy: 0.8816\n",
            "Epoch 184/1000\n",
            "333/333 [==============================] - 1s 2ms/step - loss: 0.3095 - accuracy: 0.8713 - val_loss: 0.2874 - val_accuracy: 0.8883\n",
            "Epoch 185/1000\n",
            "333/333 [==============================] - 1s 2ms/step - loss: 0.3116 - accuracy: 0.8722 - val_loss: 0.2885 - val_accuracy: 0.8799\n",
            "Epoch 186/1000\n",
            "333/333 [==============================] - 1s 2ms/step - loss: 0.3082 - accuracy: 0.8719 - val_loss: 0.2856 - val_accuracy: 0.8849\n",
            "Epoch 187/1000\n",
            "333/333 [==============================] - 1s 2ms/step - loss: 0.3096 - accuracy: 0.8738 - val_loss: 0.2929 - val_accuracy: 0.8841\n",
            "Epoch 188/1000\n",
            "333/333 [==============================] - 1s 2ms/step - loss: 0.3136 - accuracy: 0.8715 - val_loss: 0.2914 - val_accuracy: 0.8866\n",
            "Epoch 189/1000\n",
            "333/333 [==============================] - 1s 2ms/step - loss: 0.3138 - accuracy: 0.8724 - val_loss: 0.3064 - val_accuracy: 0.8706\n",
            "Epoch 190/1000\n",
            "333/333 [==============================] - 1s 2ms/step - loss: 0.3177 - accuracy: 0.8639 - val_loss: 0.2918 - val_accuracy: 0.8756\n",
            "Epoch 191/1000\n",
            "333/333 [==============================] - 1s 2ms/step - loss: 0.3009 - accuracy: 0.8760 - val_loss: 0.2834 - val_accuracy: 0.8756\n",
            "Epoch 192/1000\n",
            "333/333 [==============================] - 1s 2ms/step - loss: 0.3056 - accuracy: 0.8692 - val_loss: 0.2780 - val_accuracy: 0.8807\n",
            "Epoch 193/1000\n",
            "333/333 [==============================] - 1s 2ms/step - loss: 0.3081 - accuracy: 0.8741 - val_loss: 0.2929 - val_accuracy: 0.8731\n",
            "Epoch 194/1000\n",
            "333/333 [==============================] - 1s 2ms/step - loss: 0.3097 - accuracy: 0.8704 - val_loss: 0.3069 - val_accuracy: 0.8807\n",
            "Epoch 195/1000\n",
            "333/333 [==============================] - 1s 2ms/step - loss: 0.3115 - accuracy: 0.8724 - val_loss: 0.3054 - val_accuracy: 0.8765\n",
            "Epoch 196/1000\n",
            "333/333 [==============================] - 1s 2ms/step - loss: 0.3164 - accuracy: 0.8687 - val_loss: 0.2862 - val_accuracy: 0.8773\n",
            "Epoch 197/1000\n",
            "333/333 [==============================] - 1s 2ms/step - loss: 0.3117 - accuracy: 0.8724 - val_loss: 0.2841 - val_accuracy: 0.8790\n",
            "Epoch 198/1000\n",
            "333/333 [==============================] - 1s 2ms/step - loss: 0.3012 - accuracy: 0.8706 - val_loss: 0.2873 - val_accuracy: 0.8849\n",
            "Epoch 199/1000\n",
            "333/333 [==============================] - 1s 2ms/step - loss: 0.3159 - accuracy: 0.8675 - val_loss: 0.2832 - val_accuracy: 0.8697\n",
            "Epoch 200/1000\n",
            "333/333 [==============================] - 1s 2ms/step - loss: 0.3139 - accuracy: 0.8696 - val_loss: 0.3241 - val_accuracy: 0.8596\n",
            "Epoch 201/1000\n",
            "333/333 [==============================] - 1s 2ms/step - loss: 0.3178 - accuracy: 0.8668 - val_loss: 0.2933 - val_accuracy: 0.8723\n",
            "Epoch 202/1000\n",
            "333/333 [==============================] - 1s 2ms/step - loss: 0.3214 - accuracy: 0.8606 - val_loss: 0.2844 - val_accuracy: 0.8782\n",
            "Epoch 203/1000\n",
            "333/333 [==============================] - 1s 2ms/step - loss: 0.3058 - accuracy: 0.8754 - val_loss: 0.2883 - val_accuracy: 0.8739\n",
            "Epoch 204/1000\n",
            "333/333 [==============================] - 1s 2ms/step - loss: 0.3020 - accuracy: 0.8761 - val_loss: 0.2804 - val_accuracy: 0.8824\n",
            "Epoch 205/1000\n",
            "333/333 [==============================] - 1s 2ms/step - loss: 0.3099 - accuracy: 0.8723 - val_loss: 0.2775 - val_accuracy: 0.8824\n",
            "Epoch 206/1000\n",
            "333/333 [==============================] - 1s 2ms/step - loss: 0.3080 - accuracy: 0.8708 - val_loss: 0.2860 - val_accuracy: 0.8714\n",
            "Epoch 207/1000\n",
            "333/333 [==============================] - 1s 2ms/step - loss: 0.3059 - accuracy: 0.8725 - val_loss: 0.2950 - val_accuracy: 0.8629\n",
            "Epoch 208/1000\n",
            "333/333 [==============================] - 1s 2ms/step - loss: 0.3068 - accuracy: 0.8754 - val_loss: 0.3035 - val_accuracy: 0.8799\n",
            "Epoch 209/1000\n",
            "333/333 [==============================] - 1s 2ms/step - loss: 0.3077 - accuracy: 0.8740 - val_loss: 0.2819 - val_accuracy: 0.8765\n",
            "Epoch 210/1000\n",
            "333/333 [==============================] - 1s 2ms/step - loss: 0.3027 - accuracy: 0.8747 - val_loss: 0.2809 - val_accuracy: 0.8824\n",
            "Epoch 211/1000\n",
            "333/333 [==============================] - 1s 2ms/step - loss: 0.3044 - accuracy: 0.8726 - val_loss: 0.2840 - val_accuracy: 0.8799\n",
            "Epoch 212/1000\n",
            "333/333 [==============================] - 1s 2ms/step - loss: 0.3092 - accuracy: 0.8715 - val_loss: 0.2866 - val_accuracy: 0.8731\n",
            "Epoch 213/1000\n",
            "333/333 [==============================] - 1s 2ms/step - loss: 0.3193 - accuracy: 0.8660 - val_loss: 0.2803 - val_accuracy: 0.8858\n",
            "Epoch 214/1000\n",
            "333/333 [==============================] - 1s 2ms/step - loss: 0.3076 - accuracy: 0.8780 - val_loss: 0.2818 - val_accuracy: 0.8832\n",
            "Epoch 215/1000\n",
            "333/333 [==============================] - 1s 2ms/step - loss: 0.2990 - accuracy: 0.8760 - val_loss: 0.2781 - val_accuracy: 0.8807\n",
            "Epoch 216/1000\n",
            "333/333 [==============================] - 1s 2ms/step - loss: 0.3144 - accuracy: 0.8686 - val_loss: 0.2815 - val_accuracy: 0.8689\n",
            "Epoch 217/1000\n",
            "333/333 [==============================] - 1s 2ms/step - loss: 0.3013 - accuracy: 0.8769 - val_loss: 0.2806 - val_accuracy: 0.8782\n",
            "Epoch 218/1000\n",
            "333/333 [==============================] - 1s 2ms/step - loss: 0.3137 - accuracy: 0.8711 - val_loss: 0.2937 - val_accuracy: 0.8723\n",
            "Epoch 219/1000\n",
            "333/333 [==============================] - 1s 2ms/step - loss: 0.3148 - accuracy: 0.8708 - val_loss: 0.2925 - val_accuracy: 0.8841\n",
            "Epoch 220/1000\n",
            "333/333 [==============================] - 1s 2ms/step - loss: 0.3088 - accuracy: 0.8709 - val_loss: 0.2949 - val_accuracy: 0.8723\n",
            "Epoch 221/1000\n",
            "333/333 [==============================] - 1s 2ms/step - loss: 0.3090 - accuracy: 0.8708 - val_loss: 0.2843 - val_accuracy: 0.8782\n",
            "Epoch 222/1000\n",
            "333/333 [==============================] - 1s 2ms/step - loss: 0.3074 - accuracy: 0.8679 - val_loss: 0.2784 - val_accuracy: 0.8773\n",
            "Epoch 223/1000\n",
            "333/333 [==============================] - 1s 2ms/step - loss: 0.3054 - accuracy: 0.8714 - val_loss: 0.2858 - val_accuracy: 0.8680\n",
            "Epoch 224/1000\n",
            "333/333 [==============================] - 1s 2ms/step - loss: 0.3036 - accuracy: 0.8734 - val_loss: 0.2984 - val_accuracy: 0.8706\n",
            "Epoch 225/1000\n",
            "333/333 [==============================] - 1s 2ms/step - loss: 0.3102 - accuracy: 0.8710 - val_loss: 0.2975 - val_accuracy: 0.8723\n",
            "Epoch 226/1000\n",
            "333/333 [==============================] - 1s 2ms/step - loss: 0.3074 - accuracy: 0.8695 - val_loss: 0.2878 - val_accuracy: 0.8697\n",
            "Epoch 227/1000\n",
            "333/333 [==============================] - 1s 2ms/step - loss: 0.3005 - accuracy: 0.8753 - val_loss: 0.2805 - val_accuracy: 0.8739\n",
            "Epoch 228/1000\n",
            "333/333 [==============================] - 1s 2ms/step - loss: 0.3158 - accuracy: 0.8665 - val_loss: 0.2813 - val_accuracy: 0.8832\n",
            "Epoch 229/1000\n",
            "333/333 [==============================] - 1s 2ms/step - loss: 0.3061 - accuracy: 0.8721 - val_loss: 0.2973 - val_accuracy: 0.8672\n",
            "Epoch 230/1000\n",
            "333/333 [==============================] - 1s 2ms/step - loss: 0.3116 - accuracy: 0.8701 - val_loss: 0.2877 - val_accuracy: 0.8731\n",
            "Epoch 231/1000\n",
            "333/333 [==============================] - 1s 2ms/step - loss: 0.2931 - accuracy: 0.8806 - val_loss: 0.2782 - val_accuracy: 0.8816\n",
            "Epoch 232/1000\n",
            "333/333 [==============================] - 1s 2ms/step - loss: 0.3137 - accuracy: 0.8685 - val_loss: 0.2872 - val_accuracy: 0.8824\n",
            "Epoch 233/1000\n",
            "333/333 [==============================] - 1s 2ms/step - loss: 0.3124 - accuracy: 0.8677 - val_loss: 0.2939 - val_accuracy: 0.8782\n",
            "Epoch 234/1000\n",
            "333/333 [==============================] - 1s 2ms/step - loss: 0.3007 - accuracy: 0.8763 - val_loss: 0.2855 - val_accuracy: 0.8858\n",
            "Epoch 235/1000\n",
            "333/333 [==============================] - 1s 2ms/step - loss: 0.3106 - accuracy: 0.8717 - val_loss: 0.2790 - val_accuracy: 0.8866\n",
            "Epoch 236/1000\n",
            "333/333 [==============================] - 1s 2ms/step - loss: 0.3049 - accuracy: 0.8734 - val_loss: 0.2924 - val_accuracy: 0.8697\n",
            "Epoch 237/1000\n",
            "333/333 [==============================] - 1s 2ms/step - loss: 0.3055 - accuracy: 0.8760 - val_loss: 0.2933 - val_accuracy: 0.8731\n",
            "Epoch 238/1000\n",
            "333/333 [==============================] - 1s 2ms/step - loss: 0.3071 - accuracy: 0.8744 - val_loss: 0.2816 - val_accuracy: 0.8765\n",
            "Epoch 239/1000\n",
            "333/333 [==============================] - 1s 2ms/step - loss: 0.3026 - accuracy: 0.8727 - val_loss: 0.2928 - val_accuracy: 0.8731\n",
            "Epoch 240/1000\n",
            "333/333 [==============================] - 1s 2ms/step - loss: 0.3057 - accuracy: 0.8696 - val_loss: 0.2773 - val_accuracy: 0.8748\n",
            "Epoch 241/1000\n",
            "333/333 [==============================] - 1s 2ms/step - loss: 0.3098 - accuracy: 0.8735 - val_loss: 0.2844 - val_accuracy: 0.8816\n",
            "Epoch 242/1000\n",
            "333/333 [==============================] - 1s 2ms/step - loss: 0.3111 - accuracy: 0.8732 - val_loss: 0.2814 - val_accuracy: 0.8816\n",
            "Epoch 243/1000\n",
            "333/333 [==============================] - 1s 2ms/step - loss: 0.3153 - accuracy: 0.8663 - val_loss: 0.2823 - val_accuracy: 0.8883\n",
            "Epoch 244/1000\n",
            "333/333 [==============================] - 1s 2ms/step - loss: 0.3002 - accuracy: 0.8786 - val_loss: 0.2779 - val_accuracy: 0.8799\n",
            "Epoch 245/1000\n",
            "333/333 [==============================] - 1s 2ms/step - loss: 0.3086 - accuracy: 0.8721 - val_loss: 0.2803 - val_accuracy: 0.8773\n",
            "Epoch 246/1000\n",
            "333/333 [==============================] - 1s 2ms/step - loss: 0.3130 - accuracy: 0.8660 - val_loss: 0.2738 - val_accuracy: 0.8816\n",
            "Epoch 247/1000\n",
            "333/333 [==============================] - 1s 2ms/step - loss: 0.3055 - accuracy: 0.8696 - val_loss: 0.2964 - val_accuracy: 0.8748\n",
            "Epoch 248/1000\n",
            "333/333 [==============================] - 1s 2ms/step - loss: 0.3046 - accuracy: 0.8752 - val_loss: 0.2881 - val_accuracy: 0.8807\n",
            "Epoch 249/1000\n",
            "333/333 [==============================] - 1s 2ms/step - loss: 0.2974 - accuracy: 0.8718 - val_loss: 0.2756 - val_accuracy: 0.8807\n",
            "Epoch 250/1000\n",
            "333/333 [==============================] - 1s 2ms/step - loss: 0.3062 - accuracy: 0.8750 - val_loss: 0.2822 - val_accuracy: 0.8714\n",
            "Epoch 251/1000\n",
            "333/333 [==============================] - 1s 2ms/step - loss: 0.3082 - accuracy: 0.8713 - val_loss: 0.2820 - val_accuracy: 0.8790\n",
            "Epoch 252/1000\n",
            "333/333 [==============================] - 1s 2ms/step - loss: 0.3076 - accuracy: 0.8714 - val_loss: 0.2828 - val_accuracy: 0.8756\n",
            "Epoch 253/1000\n",
            "333/333 [==============================] - 1s 2ms/step - loss: 0.3136 - accuracy: 0.8718 - val_loss: 0.2792 - val_accuracy: 0.8816\n",
            "Epoch 254/1000\n",
            "333/333 [==============================] - 1s 2ms/step - loss: 0.3025 - accuracy: 0.8802 - val_loss: 0.2925 - val_accuracy: 0.8824\n",
            "Epoch 255/1000\n",
            "333/333 [==============================] - 1s 2ms/step - loss: 0.3110 - accuracy: 0.8727 - val_loss: 0.2849 - val_accuracy: 0.8799\n",
            "Epoch 256/1000\n",
            "333/333 [==============================] - 1s 2ms/step - loss: 0.2987 - accuracy: 0.8755 - val_loss: 0.2825 - val_accuracy: 0.8756\n",
            "Epoch 257/1000\n",
            "333/333 [==============================] - 1s 2ms/step - loss: 0.3105 - accuracy: 0.8743 - val_loss: 0.2806 - val_accuracy: 0.8782\n",
            "Epoch 258/1000\n",
            "333/333 [==============================] - 1s 2ms/step - loss: 0.2993 - accuracy: 0.8697 - val_loss: 0.2866 - val_accuracy: 0.8773\n",
            "Epoch 259/1000\n",
            "333/333 [==============================] - 1s 2ms/step - loss: 0.3082 - accuracy: 0.8745 - val_loss: 0.2886 - val_accuracy: 0.8723\n",
            "Epoch 260/1000\n",
            "333/333 [==============================] - 1s 2ms/step - loss: 0.3062 - accuracy: 0.8713 - val_loss: 0.2897 - val_accuracy: 0.8756\n",
            "Epoch 261/1000\n",
            "333/333 [==============================] - 1s 2ms/step - loss: 0.2989 - accuracy: 0.8744 - val_loss: 0.2872 - val_accuracy: 0.8714\n",
            "Epoch 262/1000\n",
            "333/333 [==============================] - 1s 2ms/step - loss: 0.2930 - accuracy: 0.8784 - val_loss: 0.3039 - val_accuracy: 0.8756\n",
            "Epoch 263/1000\n",
            "333/333 [==============================] - 1s 2ms/step - loss: 0.3056 - accuracy: 0.8731 - val_loss: 0.2874 - val_accuracy: 0.8883\n",
            "Epoch 264/1000\n",
            "333/333 [==============================] - 1s 2ms/step - loss: 0.3012 - accuracy: 0.8713 - val_loss: 0.2824 - val_accuracy: 0.8723\n",
            "Epoch 265/1000\n",
            "333/333 [==============================] - 1s 2ms/step - loss: 0.3210 - accuracy: 0.8651 - val_loss: 0.2889 - val_accuracy: 0.8816\n",
            "Epoch 266/1000\n",
            "333/333 [==============================] - 1s 2ms/step - loss: 0.3077 - accuracy: 0.8722 - val_loss: 0.2910 - val_accuracy: 0.8765\n",
            "Epoch 267/1000\n",
            "333/333 [==============================] - 1s 2ms/step - loss: 0.3008 - accuracy: 0.8775 - val_loss: 0.2846 - val_accuracy: 0.8841\n",
            "Epoch 268/1000\n",
            "333/333 [==============================] - 1s 2ms/step - loss: 0.2962 - accuracy: 0.8767 - val_loss: 0.3075 - val_accuracy: 0.8731\n",
            "Epoch 269/1000\n",
            "333/333 [==============================] - 1s 2ms/step - loss: 0.3069 - accuracy: 0.8730 - val_loss: 0.2818 - val_accuracy: 0.8849\n",
            "Epoch 270/1000\n",
            "333/333 [==============================] - 1s 2ms/step - loss: 0.3014 - accuracy: 0.8754 - val_loss: 0.2905 - val_accuracy: 0.8875\n",
            "Epoch 271/1000\n",
            "333/333 [==============================] - 1s 2ms/step - loss: 0.3097 - accuracy: 0.8771 - val_loss: 0.2949 - val_accuracy: 0.8858\n",
            "Epoch 272/1000\n",
            "333/333 [==============================] - 1s 2ms/step - loss: 0.3045 - accuracy: 0.8745 - val_loss: 0.2838 - val_accuracy: 0.8866\n",
            "Epoch 273/1000\n",
            "333/333 [==============================] - 1s 2ms/step - loss: 0.2957 - accuracy: 0.8780 - val_loss: 0.2818 - val_accuracy: 0.8790\n",
            "Epoch 274/1000\n",
            "333/333 [==============================] - 1s 2ms/step - loss: 0.3062 - accuracy: 0.8733 - val_loss: 0.2863 - val_accuracy: 0.8824\n",
            "Epoch 275/1000\n",
            "333/333 [==============================] - 1s 2ms/step - loss: 0.3029 - accuracy: 0.8709 - val_loss: 0.2859 - val_accuracy: 0.8782\n",
            "Epoch 276/1000\n",
            "333/333 [==============================] - 1s 2ms/step - loss: 0.3181 - accuracy: 0.8665 - val_loss: 0.2859 - val_accuracy: 0.8824\n",
            "Epoch 277/1000\n",
            "333/333 [==============================] - 1s 2ms/step - loss: 0.3080 - accuracy: 0.8720 - val_loss: 0.2844 - val_accuracy: 0.8866\n",
            "Epoch 278/1000\n",
            "333/333 [==============================] - 1s 2ms/step - loss: 0.3029 - accuracy: 0.8734 - val_loss: 0.2822 - val_accuracy: 0.8841\n",
            "Epoch 279/1000\n",
            "333/333 [==============================] - 1s 2ms/step - loss: 0.3048 - accuracy: 0.8721 - val_loss: 0.2895 - val_accuracy: 0.8731\n",
            "Epoch 280/1000\n",
            "333/333 [==============================] - 1s 2ms/step - loss: 0.3132 - accuracy: 0.8685 - val_loss: 0.2944 - val_accuracy: 0.8689\n",
            "Epoch 281/1000\n",
            "333/333 [==============================] - 1s 2ms/step - loss: 0.3066 - accuracy: 0.8759 - val_loss: 0.2782 - val_accuracy: 0.8849\n",
            "Epoch 282/1000\n",
            "333/333 [==============================] - 1s 2ms/step - loss: 0.3065 - accuracy: 0.8733 - val_loss: 0.2795 - val_accuracy: 0.8756\n",
            "Epoch 283/1000\n",
            "333/333 [==============================] - 1s 2ms/step - loss: 0.3090 - accuracy: 0.8737 - val_loss: 0.2808 - val_accuracy: 0.8816\n",
            "Epoch 284/1000\n",
            "333/333 [==============================] - 1s 2ms/step - loss: 0.2986 - accuracy: 0.8756 - val_loss: 0.2863 - val_accuracy: 0.8858\n",
            "Epoch 285/1000\n",
            "333/333 [==============================] - 1s 2ms/step - loss: 0.3027 - accuracy: 0.8778 - val_loss: 0.2837 - val_accuracy: 0.8799\n",
            "Epoch 286/1000\n",
            "333/333 [==============================] - 1s 2ms/step - loss: 0.3033 - accuracy: 0.8743 - val_loss: 0.2900 - val_accuracy: 0.8731\n",
            "Epoch 287/1000\n",
            "333/333 [==============================] - 1s 2ms/step - loss: 0.3040 - accuracy: 0.8713 - val_loss: 0.2913 - val_accuracy: 0.8689\n",
            "Epoch 288/1000\n",
            "333/333 [==============================] - 1s 2ms/step - loss: 0.2970 - accuracy: 0.8798 - val_loss: 0.2821 - val_accuracy: 0.8773\n",
            "Epoch 289/1000\n",
            "333/333 [==============================] - 1s 2ms/step - loss: 0.3159 - accuracy: 0.8655 - val_loss: 0.2847 - val_accuracy: 0.8773\n",
            "Epoch 290/1000\n",
            "333/333 [==============================] - 1s 2ms/step - loss: 0.3008 - accuracy: 0.8750 - val_loss: 0.2915 - val_accuracy: 0.8739\n",
            "Epoch 291/1000\n",
            "333/333 [==============================] - 1s 2ms/step - loss: 0.3038 - accuracy: 0.8784 - val_loss: 0.2868 - val_accuracy: 0.8892\n",
            "Epoch 292/1000\n",
            "333/333 [==============================] - 1s 2ms/step - loss: 0.3075 - accuracy: 0.8673 - val_loss: 0.2800 - val_accuracy: 0.8782\n",
            "Epoch 293/1000\n",
            "333/333 [==============================] - 1s 2ms/step - loss: 0.3145 - accuracy: 0.8690 - val_loss: 0.2761 - val_accuracy: 0.8816\n",
            "Epoch 294/1000\n",
            "333/333 [==============================] - 1s 2ms/step - loss: 0.3137 - accuracy: 0.8712 - val_loss: 0.2786 - val_accuracy: 0.8739\n",
            "Epoch 295/1000\n",
            "333/333 [==============================] - 1s 2ms/step - loss: 0.3043 - accuracy: 0.8734 - val_loss: 0.2822 - val_accuracy: 0.8773\n",
            "Epoch 296/1000\n",
            "333/333 [==============================] - 1s 2ms/step - loss: 0.3030 - accuracy: 0.8786 - val_loss: 0.2851 - val_accuracy: 0.8756\n",
            "Epoch 297/1000\n",
            "333/333 [==============================] - 1s 2ms/step - loss: 0.3001 - accuracy: 0.8771 - val_loss: 0.2861 - val_accuracy: 0.8832\n",
            "Epoch 298/1000\n",
            "333/333 [==============================] - 1s 2ms/step - loss: 0.3153 - accuracy: 0.8730 - val_loss: 0.2826 - val_accuracy: 0.8765\n",
            "Epoch 299/1000\n",
            "333/333 [==============================] - 1s 2ms/step - loss: 0.3041 - accuracy: 0.8747 - val_loss: 0.2952 - val_accuracy: 0.8900\n",
            "Epoch 300/1000\n",
            "333/333 [==============================] - 1s 2ms/step - loss: 0.3147 - accuracy: 0.8678 - val_loss: 0.2840 - val_accuracy: 0.8731\n",
            "Epoch 301/1000\n",
            "333/333 [==============================] - 1s 2ms/step - loss: 0.3210 - accuracy: 0.8667 - val_loss: 0.2826 - val_accuracy: 0.8748\n",
            "Epoch 302/1000\n",
            "333/333 [==============================] - 1s 2ms/step - loss: 0.3019 - accuracy: 0.8807 - val_loss: 0.2782 - val_accuracy: 0.8858\n",
            "Epoch 303/1000\n",
            "333/333 [==============================] - 1s 2ms/step - loss: 0.3109 - accuracy: 0.8682 - val_loss: 0.2895 - val_accuracy: 0.8799\n",
            "Epoch 304/1000\n",
            "333/333 [==============================] - 1s 2ms/step - loss: 0.3037 - accuracy: 0.8746 - val_loss: 0.2856 - val_accuracy: 0.8883\n",
            "Epoch 305/1000\n",
            "333/333 [==============================] - 1s 2ms/step - loss: 0.3124 - accuracy: 0.8673 - val_loss: 0.2794 - val_accuracy: 0.8824\n",
            "Epoch 306/1000\n",
            "333/333 [==============================] - 1s 2ms/step - loss: 0.3050 - accuracy: 0.8786 - val_loss: 0.2842 - val_accuracy: 0.8824\n",
            "Epoch 307/1000\n",
            "333/333 [==============================] - 1s 2ms/step - loss: 0.3075 - accuracy: 0.8747 - val_loss: 0.2901 - val_accuracy: 0.8739\n",
            "Epoch 308/1000\n",
            "333/333 [==============================] - 1s 2ms/step - loss: 0.3135 - accuracy: 0.8767 - val_loss: 0.2903 - val_accuracy: 0.8773\n",
            "Time elapsed : 186.02279615402222\n",
            "time: 3min 6s (started: 2020-12-22 02:26:48 +00:00)\n"
          ],
          "name": "stdout"
        }
      ]
    },
    {
      "cell_type": "markdown",
      "metadata": {
        "id": "mTfFswgRSdcL"
      },
      "source": [
        "Visualisasi nilai loss untuk setiap epoch sepanjang iterasi"
      ]
    },
    {
      "cell_type": "code",
      "metadata": {
        "id": "rvQEnHeugMnj",
        "colab": {
          "base_uri": "https://localhost:8080/",
          "height": 282
        },
        "outputId": "0ca26838-4a3d-4ce6-87a4-d3a230878b4f"
      },
      "source": [
        "plt.plot(history.history['loss'], label='train')\r\n",
        "plt.plot(history.history['val_loss'], label='test')\r\n",
        "plt.legend()\r\n",
        "plt.show()"
      ],
      "execution_count": null,
      "outputs": [
        {
          "output_type": "display_data",
          "data": {
            "image/png": "[encoded data removed]",
            "text/plain": [
              "<Figure size 432x288 with 1 Axes>"
            ]
          },
          "metadata": {
            "tags": [],
            "needs_background": "light"
          }
        },
        {
          "output_type": "stream",
          "text": [
            "time: 174 ms (started: 2020-12-22 02:30:19 +00:00)\n"
          ],
          "name": "stdout"
        }
      ]
    },
    {
      "cell_type": "markdown",
      "metadata": {
        "id": "dnrVDw-WRDXg"
      },
      "source": [
        "Mengecek akurasi untuk data test"
      ]
    },
    {
      "cell_type": "code",
      "metadata": {
        "id": "L2LOOHGTjQRo",
        "colab": {
          "base_uri": "https://localhost:8080/"
        },
        "outputId": "f4540c37-7dce-407c-9206-1889e63f9e4e"
      },
      "source": [
        "preds = model.predict(X_test_reshaped)\r\n",
        "preds = np.round(preds, 0).reshape(preds.shape[0])\r\n",
        "acc = accuracy_score(y_test, preds)\r\n",
        "acc"
      ],
      "execution_count": null,
      "outputs": [
        {
          "output_type": "execute_result",
          "data": {
            "text/plain": [
              "0.8798646362098139"
            ]
          },
          "metadata": {
            "tags": []
          },
          "execution_count": 96
        },
        {
          "output_type": "stream",
          "text": [
            "time: 141 ms (started: 2020-12-22 02:30:22 +00:00)\n"
          ],
          "name": "stdout"
        }
      ]
    },
    {
      "cell_type": "markdown",
      "metadata": {
        "id": "TPZLTlBURI9v"
      },
      "source": [
        "Mengecek akurasi untuk data train"
      ]
    },
    {
      "cell_type": "code",
      "metadata": {
        "colab": {
          "base_uri": "https://localhost:8080/"
        },
        "id": "-jlfGxtprtqi",
        "outputId": "dcdd0999-9da6-45dc-92eb-e8fd3d7c5adb"
      },
      "source": [
        "preds = model.predict(X_train_reshaped)\r\n",
        "preds = np.round(preds, 0).reshape(preds.shape[0])\r\n",
        "acc = accuracy_score(y_train, preds)\r\n",
        "acc"
      ],
      "execution_count": null,
      "outputs": [
        {
          "output_type": "execute_result",
          "data": {
            "text/plain": [
              "0.8857438405115666"
            ]
          },
          "metadata": {
            "tags": []
          },
          "execution_count": 97
        },
        {
          "output_type": "stream",
          "text": [
            "time: 261 ms (started: 2020-12-22 02:30:24 +00:00)\n"
          ],
          "name": "stdout"
        }
      ]
    }
  ]
}